{
 "cells": [
  {
   "cell_type": "markdown",
   "metadata": {},
   "source": [
    "**Задача.**\n",
    "Представьте, что вы работаете в крупном дейтинговом приложении.\n",
    "\n",
    "Помимо базовых функций, в приложении также имеется премиум-подписка, которая дает доступ к ряду важных дополнительных возможностей. Был проведен A/B тест, в рамках которого для новых пользователей из нескольких стран была изменена стоимость премиум-подписки* при покупке через две новые платежные системы. При этом стоимость пробного периода оставалась прежней.\n",
    "\n",
    "**Проверьте:**\n",
    "\n",
    "Был ли эксперимент успешен в целом.\n",
    "*Деньги за подписку списываются ежемесячно до тех пор, пока пользователь её не отменит."
   ]
  },
  {
   "cell_type": "markdown",
   "metadata": {},
   "source": [
    "**Исходные данные:**\n",
    "\n",
    "- `users_test` – информация о пользователях в тестовой группе. \n",
    "- `users_control_1` – информация о пользователях в первой контрольной группе. \n",
    "- `users_control_2` – информация о пользователях во второй контрольной группе . \n",
    "- `transactions_test` – информация о платежах пользователей в тестовой группе. \n",
    "- `transactions_control_1` – информация о платежах пользователей в первой контрольной группе.\n",
    "- `transactions_control_2` – информация о платежах пользователей во второй контрольной группе "
   ]
  },
  {
   "cell_type": "markdown",
   "metadata": {},
   "source": [
    "**Описание датасетов `users_*.csv` – информация о пользователях:**\n",
    "\n",
    "- `uid` – идентификатор пользователя\n",
    "- `age` – возраст\n",
    "- `attraction_coeff` – коэффициент привлекательности (от 0 до 1000, лайки/просмотры*1000)\n",
    "- `coins` – число монеток (внутренняя валюта)\n",
    "- `country` – страна  \n",
    "- `visit_days` – в какие дни после регистрации пользователь посещал приложение (напр. в 1, затем в 7)\n",
    "- `gender` – пол\n",
    "- `age_filter_start`  – фильтр поиска, мин. значение \n",
    "- `age_filter_end`  – фильтр поиска, макс. значение \n",
    "- `views_count` – число полученных оценок \n",
    "- `was_premium` – был ли когда-либо премиум (либо пробный период премиум-статуса, либо купленный за деньги)\n",
    "- `is_premium` –  является ли премиум\n",
    "- `total_revenue` – нормированная выручка "
   ]
  },
  {
   "cell_type": "markdown",
   "metadata": {},
   "source": [
    "**Описание датасетов `transactions_*.csv` – информация о платежах пользователей:**\n",
    "\n",
    "- `uid` – идентификатор пользователя\n",
    "- `country` – страна\n",
    "- `joined_at` – дата и время регистрации\n",
    "- `paid_at` – дата и время покупки\n",
    "- `revenue` – нормированная выручка\n",
    "- `payment_id` – идентификатор платежа\n",
    "- `from_page` – откуда пользователь перешел на страницу оплаты\n",
    "- `product_type` – тип продукта(`trial_premium` – пробная премиум-подписка, `premium_no_trial` – премиум-подписка без пробной, `coins` – подписка за внутреннюю валюту, `other_type` – другое)"
   ]
  },
{
   "cell_type": "markdown",
   "metadata": {},
   "source": [
    **Файлы:**\n",
    "\n",
    "- `users_test` – информация о пользователях в тестовой группе\n", 
    "- `users_control_1` – информация о пользователях в первой контрольной группе\n",  
    "- `users_control_2` – информация о пользователях во второй контрольной группе\n",  
    "- `transactions_test` – информация о платежах пользователей в тестовой группе\n",  
    "- `transactions_control_1` – информация о платежах пользователей в первой контрольной группе\n",  
    "- `transactions_control_2` – информация о платежах пользователей во второй контрольной группе "
   ]
  },
   {
   "cell_type": "markdown",
   "metadata": {},
   "source": [
    "## 1. Проверяем данные"
   ]
  },
  {
   "cell_type": "code",
   "execution_count": 18,
   "metadata": {},
   "outputs": [],
   "source": [
    "import pandas as pd\n",
    "import numpy as np\n",
    "import seaborn as sns\n",
    "import scipy.stats as stats\n",
    "import pingouin as pg\n",
    "\n",
    "from operator import attrgetter\n",
    "from matplotlib import pyplot as plt\n",
    "from scipy.stats import chi2_contingency, levene, f_oneway, kruskal, ttest_ind\n",
    "\n",
    "from operator import attrgetter\n",
    "import requests\n",
    "import io\n",
    "import re"
   ]
  },
  {
   "cell_type": "code",
   "execution_count": 19,
   "metadata": {},
   "outputs": [
    {
     "name": "stdout",
     "output_type": "stream",
     "text": [
      "✅ Успешно загружен: users_test\n",
      "✅ Успешно загружен: users_control_1\n",
      "✅ Успешно загружен: users_control_2\n",
      "✅ Успешно загружен: transactions_test\n",
      "✅ Успешно загружен: transactions_control_1\n",
      "✅ Успешно загружен: transactions_control_2\n"
     ]
    }
   ],
   "source": [
    "def load_yandex_data():\n",
    "    \"\"\"Загружает все датасеты и создает соответствующие переменные DataFrame\"\"\"\n",
    "    api_url = \"https://cloud-api.yandex.net/v1/disk/public/resources/download\"\n",
    "    \n",
    "    # Конфигурация данных в формате (название_переменной, публичная_ссылка)\n",
    "    files = [\n",
    "        ('users_test', 'https://disk.yandex.ru/d/4XXIME4osGrMRA'),\n",
    "        ('users_control_1', 'https://disk.yandex.ru/d/yJFydMNNGkEKfg'),\n",
    "        ('users_control_2', 'https://disk.yandex.ru/d/br6KkQupzzTGoQ'),\n",
    "        ('transactions_test', 'https://disk.yandex.ru/d/gvCWpZ55ODzs2g'),\n",
    "        ('transactions_control_1', 'https://disk.yandex.ru/d/VY5W0keMX5TZBQ'),\n",
    "        ('transactions_control_2', 'https://disk.yandex.ru/d/th5GL0mGOc-qzg')\n",
    "    ]\n",
    "\n",
    "    for name, url in files:\n",
    "        try:\n",
    "            # Нормализация имени переменной\n",
    "            var_name = re.sub('[^a-zA-Z0-9_]', '_', name)\n",
    "            \n",
    "            # Получение ссылки для скачивания\n",
    "            response = requests.get(api_url, params={\"public_key\": url})\n",
    "            response.raise_for_status()\n",
    "            \n",
    "            download_url = response.json().get('href')\n",
    "            if not download_url:\n",
    "                raise ValueError(\"Не удалось получить ссылку для скачивания\")\n",
    "\n",
    "            # Загрузка и чтение данных\n",
    "            file_response = requests.get(download_url)\n",
    "            file_response.raise_for_status()\n",
    "            \n",
    "            df = pd.read_csv(\n",
    "                io.StringIO(file_response.text),\n",
    "                sep=';',\n",
    "                error_bad_lines=False,\n",
    "                warn_bad_lines=True\n",
    "            )\n",
    "            \n",
    "            # Создание глобальной переменной\n",
    "            globals()[var_name] = df\n",
    "            print(f\"✅ Успешно загружен: {var_name}\")\n",
    "\n",
    "        except Exception as e:\n",
    "            print(f\"❌ Ошибка при загрузке {name}: {str(e)}\")\n",
    "            globals()[var_name] = None\n",
    "\n",
    "# Запускаем загрузку данных\n",
    "load_yandex_data()"
   ]
  },
  {
   "cell_type": "code",
   "execution_count": 131,
   "metadata": {},
   "outputs": [
    {
     "data": {
      "text/html": [
       "<div>\n",
       "<style scoped>\n",
       "    .dataframe tbody tr th:only-of-type {\n",
       "        vertical-align: middle;\n",
       "    }\n",
       "\n",
       "    .dataframe tbody tr th {\n",
       "        vertical-align: top;\n",
       "    }\n",
       "\n",
       "    .dataframe thead th {\n",
       "        text-align: right;\n",
       "    }\n",
       "</style>\n",
       "<table border=\"1\" class=\"dataframe\">\n",
       "  <thead>\n",
       "    <tr style=\"text-align: right;\">\n",
       "      <th></th>\n",
       "      <th>uid</th>\n",
       "      <th>age</th>\n",
       "      <th>attraction_coeff</th>\n",
       "      <th>coins</th>\n",
       "      <th>country</th>\n",
       "      <th>visit_days</th>\n",
       "      <th>gender</th>\n",
       "      <th>age_filter_start</th>\n",
       "      <th>age_filter_end</th>\n",
       "      <th>views_count</th>\n",
       "      <th>was_premium</th>\n",
       "      <th>is_premium</th>\n",
       "      <th>total_revenue</th>\n",
       "    </tr>\n",
       "  </thead>\n",
       "  <tbody>\n",
       "    <tr>\n",
       "      <th>0</th>\n",
       "      <td>892309896</td>\n",
       "      <td>27</td>\n",
       "      <td>685</td>\n",
       "      <td>NaN</td>\n",
       "      <td>United States of America</td>\n",
       "      <td>1,2,3,4,5,6,7,8,9,10,11,12,16,17</td>\n",
       "      <td>1</td>\n",
       "      <td>24</td>\n",
       "      <td>30</td>\n",
       "      <td>89</td>\n",
       "      <td>NaN</td>\n",
       "      <td>NaN</td>\n",
       "      <td>0</td>\n",
       "    </tr>\n",
       "    <tr>\n",
       "      <th>1</th>\n",
       "      <td>892044516</td>\n",
       "      <td>27</td>\n",
       "      <td>0</td>\n",
       "      <td>NaN</td>\n",
       "      <td>Germany</td>\n",
       "      <td>NaN</td>\n",
       "      <td>1</td>\n",
       "      <td>24</td>\n",
       "      <td>30</td>\n",
       "      <td>0</td>\n",
       "      <td>NaN</td>\n",
       "      <td>NaN</td>\n",
       "      <td>0</td>\n",
       "    </tr>\n",
       "    <tr>\n",
       "      <th>2</th>\n",
       "      <td>892185708</td>\n",
       "      <td>45</td>\n",
       "      <td>44</td>\n",
       "      <td>NaN</td>\n",
       "      <td>Israel</td>\n",
       "      <td>1,3,4,6,7,8,10,11,12,13,14,15,16,17,18,19,20,2...</td>\n",
       "      <td>1</td>\n",
       "      <td>42</td>\n",
       "      <td>48</td>\n",
       "      <td>68</td>\n",
       "      <td>NaN</td>\n",
       "      <td>NaN</td>\n",
       "      <td>0</td>\n",
       "    </tr>\n",
       "    <tr>\n",
       "      <th>3</th>\n",
       "      <td>892130292</td>\n",
       "      <td>32</td>\n",
       "      <td>0</td>\n",
       "      <td>NaN</td>\n",
       "      <td>United States of America</td>\n",
       "      <td>1,2,3,4,5,6,7,8,9,10,11,12</td>\n",
       "      <td>1</td>\n",
       "      <td>29</td>\n",
       "      <td>35</td>\n",
       "      <td>0</td>\n",
       "      <td>NaN</td>\n",
       "      <td>NaN</td>\n",
       "      <td>0</td>\n",
       "    </tr>\n",
       "    <tr>\n",
       "      <th>4</th>\n",
       "      <td>891406035</td>\n",
       "      <td>27</td>\n",
       "      <td>1000</td>\n",
       "      <td>NaN</td>\n",
       "      <td>France</td>\n",
       "      <td>NaN</td>\n",
       "      <td>1</td>\n",
       "      <td>24</td>\n",
       "      <td>30</td>\n",
       "      <td>1</td>\n",
       "      <td>1.0</td>\n",
       "      <td>NaN</td>\n",
       "      <td>0</td>\n",
       "    </tr>\n",
       "  </tbody>\n",
       "</table>\n",
       "</div>"
      ],
      "text/plain": [
       "         uid  age  attraction_coeff  coins                   country  \\\n",
       "0  892309896   27               685    NaN  United States of America   \n",
       "1  892044516   27                 0    NaN                   Germany   \n",
       "2  892185708   45                44    NaN                    Israel   \n",
       "3  892130292   32                 0    NaN  United States of America   \n",
       "4  891406035   27              1000    NaN                    France   \n",
       "\n",
       "                                          visit_days  gender  \\\n",
       "0                   1,2,3,4,5,6,7,8,9,10,11,12,16,17       1   \n",
       "1                                                NaN       1   \n",
       "2  1,3,4,6,7,8,10,11,12,13,14,15,16,17,18,19,20,2...       1   \n",
       "3                         1,2,3,4,5,6,7,8,9,10,11,12       1   \n",
       "4                                                NaN       1   \n",
       "\n",
       "   age_filter_start  age_filter_end  views_count  was_premium  is_premium  \\\n",
       "0                24              30           89          NaN         NaN   \n",
       "1                24              30            0          NaN         NaN   \n",
       "2                42              48           68          NaN         NaN   \n",
       "3                29              35            0          NaN         NaN   \n",
       "4                24              30            1          1.0         NaN   \n",
       "\n",
       "   total_revenue  \n",
       "0              0  \n",
       "1              0  \n",
       "2              0  \n",
       "3              0  \n",
       "4              0  "
      ]
     },
     "execution_count": 131,
     "metadata": {},
     "output_type": "execute_result"
    }
   ],
   "source": [
    "users_test.head()"
   ]
  },
  {
   "cell_type": "code",
   "execution_count": 4,
   "metadata": {},
   "outputs": [
    {
     "name": "stdout",
     "output_type": "stream",
     "text": [
      "<class 'pandas.core.frame.DataFrame'>\n",
      "RangeIndex: 4308 entries, 0 to 4307\n",
      "Data columns (total 13 columns):\n",
      " #   Column            Non-Null Count  Dtype  \n",
      "---  ------            --------------  -----  \n",
      " 0   uid               4308 non-null   int64  \n",
      " 1   age               4308 non-null   int64  \n",
      " 2   attraction_coeff  4308 non-null   int64  \n",
      " 3   coins             49 non-null     float64\n",
      " 4   country           4308 non-null   object \n",
      " 5   visit_days        2978 non-null   object \n",
      " 6   gender            4308 non-null   int64  \n",
      " 7   age_filter_start  4308 non-null   int64  \n",
      " 8   age_filter_end    4308 non-null   int64  \n",
      " 9   views_count       4308 non-null   int64  \n",
      " 10  was_premium       408 non-null    float64\n",
      " 11  is_premium        157 non-null    float64\n",
      " 12  total_revenue     4308 non-null   int64  \n",
      "dtypes: float64(3), int64(8), object(2)\n",
      "memory usage: 437.7+ KB\n"
     ]
    }
   ],
   "source": [
    "users_test.info()"
   ]
  },
  {
   "cell_type": "code",
   "execution_count": 7,
   "metadata": {
    "scrolled": true
   },
   "outputs": [
    {
     "data": {
      "text/html": [
       "<div>\n",
       "<style scoped>\n",
       "    .dataframe tbody tr th:only-of-type {\n",
       "        vertical-align: middle;\n",
       "    }\n",
       "\n",
       "    .dataframe tbody tr th {\n",
       "        vertical-align: top;\n",
       "    }\n",
       "\n",
       "    .dataframe thead th {\n",
       "        text-align: right;\n",
       "    }\n",
       "</style>\n",
       "<table border=\"1\" class=\"dataframe\">\n",
       "  <thead>\n",
       "    <tr style=\"text-align: right;\">\n",
       "      <th></th>\n",
       "      <th>uid</th>\n",
       "      <th>age</th>\n",
       "      <th>attraction_coeff</th>\n",
       "      <th>coins</th>\n",
       "      <th>country</th>\n",
       "      <th>visit_days</th>\n",
       "      <th>gender</th>\n",
       "      <th>age_filter_start</th>\n",
       "      <th>age_filter_end</th>\n",
       "      <th>views_count</th>\n",
       "      <th>was_premium</th>\n",
       "      <th>is_premium</th>\n",
       "      <th>total_revenue</th>\n",
       "    </tr>\n",
       "  </thead>\n",
       "  <tbody>\n",
       "    <tr>\n",
       "      <th>0</th>\n",
       "      <td>892319115</td>\n",
       "      <td>25</td>\n",
       "      <td>435</td>\n",
       "      <td>NaN</td>\n",
       "      <td>United States of America</td>\n",
       "      <td>1,2,3,4,5,6</td>\n",
       "      <td>0</td>\n",
       "      <td>22</td>\n",
       "      <td>32</td>\n",
       "      <td>982</td>\n",
       "      <td>NaN</td>\n",
       "      <td>NaN</td>\n",
       "      <td>0</td>\n",
       "    </tr>\n",
       "    <tr>\n",
       "      <th>1</th>\n",
       "      <td>891248523</td>\n",
       "      <td>29</td>\n",
       "      <td>500</td>\n",
       "      <td>NaN</td>\n",
       "      <td>United States of America</td>\n",
       "      <td>1,2</td>\n",
       "      <td>1</td>\n",
       "      <td>26</td>\n",
       "      <td>32</td>\n",
       "      <td>12</td>\n",
       "      <td>NaN</td>\n",
       "      <td>NaN</td>\n",
       "      <td>0</td>\n",
       "    </tr>\n",
       "    <tr>\n",
       "      <th>2</th>\n",
       "      <td>891670932</td>\n",
       "      <td>33</td>\n",
       "      <td>800</td>\n",
       "      <td>NaN</td>\n",
       "      <td>France</td>\n",
       "      <td>1,2,3,5,6,8,9,11,13,16</td>\n",
       "      <td>1</td>\n",
       "      <td>30</td>\n",
       "      <td>36</td>\n",
       "      <td>5</td>\n",
       "      <td>NaN</td>\n",
       "      <td>NaN</td>\n",
       "      <td>0</td>\n",
       "    </tr>\n",
       "    <tr>\n",
       "      <th>3</th>\n",
       "      <td>891060786</td>\n",
       "      <td>26</td>\n",
       "      <td>0</td>\n",
       "      <td>NaN</td>\n",
       "      <td>Argentina</td>\n",
       "      <td>1,2,3,4,5</td>\n",
       "      <td>1</td>\n",
       "      <td>23</td>\n",
       "      <td>29</td>\n",
       "      <td>0</td>\n",
       "      <td>NaN</td>\n",
       "      <td>NaN</td>\n",
       "      <td>0</td>\n",
       "    </tr>\n",
       "    <tr>\n",
       "      <th>4</th>\n",
       "      <td>892006554</td>\n",
       "      <td>35</td>\n",
       "      <td>294</td>\n",
       "      <td>NaN</td>\n",
       "      <td>United States of America</td>\n",
       "      <td>1,2,3,5,6,7,8,9,10,12,15,16,17,19</td>\n",
       "      <td>1</td>\n",
       "      <td>30</td>\n",
       "      <td>40</td>\n",
       "      <td>17</td>\n",
       "      <td>NaN</td>\n",
       "      <td>NaN</td>\n",
       "      <td>0</td>\n",
       "    </tr>\n",
       "  </tbody>\n",
       "</table>\n",
       "</div>"
      ],
      "text/plain": [
       "         uid  age  attraction_coeff  coins                   country  \\\n",
       "0  892319115   25               435    NaN  United States of America   \n",
       "1  891248523   29               500    NaN  United States of America   \n",
       "2  891670932   33               800    NaN                    France   \n",
       "3  891060786   26                 0    NaN                 Argentina   \n",
       "4  892006554   35               294    NaN  United States of America   \n",
       "\n",
       "                          visit_days  gender  age_filter_start  \\\n",
       "0                        1,2,3,4,5,6       0                22   \n",
       "1                                1,2       1                26   \n",
       "2             1,2,3,5,6,8,9,11,13,16       1                30   \n",
       "3                          1,2,3,4,5       1                23   \n",
       "4  1,2,3,5,6,7,8,9,10,12,15,16,17,19       1                30   \n",
       "\n",
       "   age_filter_end  views_count  was_premium  is_premium  total_revenue  \n",
       "0              32          982          NaN         NaN              0  \n",
       "1              32           12          NaN         NaN              0  \n",
       "2              36            5          NaN         NaN              0  \n",
       "3              29            0          NaN         NaN              0  \n",
       "4              40           17          NaN         NaN              0  "
      ]
     },
     "execution_count": 7,
     "metadata": {},
     "output_type": "execute_result"
    }
   ],
   "source": [
    "users_control_1.head()"
   ]
  },
  {
   "cell_type": "code",
   "execution_count": 8,
   "metadata": {},
   "outputs": [
    {
     "name": "stdout",
     "output_type": "stream",
     "text": [
      "<class 'pandas.core.frame.DataFrame'>\n",
      "RangeIndex: 4340 entries, 0 to 4339\n",
      "Data columns (total 13 columns):\n",
      " #   Column            Non-Null Count  Dtype  \n",
      "---  ------            --------------  -----  \n",
      " 0   uid               4340 non-null   int64  \n",
      " 1   age               4340 non-null   int64  \n",
      " 2   attraction_coeff  4340 non-null   int64  \n",
      " 3   coins             60 non-null     float64\n",
      " 4   country           4340 non-null   object \n",
      " 5   visit_days        3016 non-null   object \n",
      " 6   gender            4340 non-null   int64  \n",
      " 7   age_filter_start  4340 non-null   int64  \n",
      " 8   age_filter_end    4340 non-null   int64  \n",
      " 9   views_count       4340 non-null   int64  \n",
      " 10  was_premium       436 non-null    float64\n",
      " 11  is_premium        192 non-null    float64\n",
      " 12  total_revenue     4340 non-null   int64  \n",
      "dtypes: float64(3), int64(8), object(2)\n",
      "memory usage: 440.9+ KB\n"
     ]
    }
   ],
   "source": [
    "users_control_1.info()"
   ]
  },
  {
   "cell_type": "code",
   "execution_count": 9,
   "metadata": {},
   "outputs": [
    {
     "data": {
      "text/html": [
       "<div>\n",
       "<style scoped>\n",
       "    .dataframe tbody tr th:only-of-type {\n",
       "        vertical-align: middle;\n",
       "    }\n",
       "\n",
       "    .dataframe tbody tr th {\n",
       "        vertical-align: top;\n",
       "    }\n",
       "\n",
       "    .dataframe thead th {\n",
       "        text-align: right;\n",
       "    }\n",
       "</style>\n",
       "<table border=\"1\" class=\"dataframe\">\n",
       "  <thead>\n",
       "    <tr style=\"text-align: right;\">\n",
       "      <th></th>\n",
       "      <th>uid</th>\n",
       "      <th>age</th>\n",
       "      <th>attraction_coeff</th>\n",
       "      <th>coins</th>\n",
       "      <th>country</th>\n",
       "      <th>visit_days</th>\n",
       "      <th>gender</th>\n",
       "      <th>age_filter_start</th>\n",
       "      <th>age_filter_end</th>\n",
       "      <th>views_count</th>\n",
       "      <th>was_premium</th>\n",
       "      <th>is_premium</th>\n",
       "      <th>total_revenue</th>\n",
       "    </tr>\n",
       "  </thead>\n",
       "  <tbody>\n",
       "    <tr>\n",
       "      <th>0</th>\n",
       "      <td>892035504</td>\n",
       "      <td>37</td>\n",
       "      <td>137</td>\n",
       "      <td>NaN</td>\n",
       "      <td>Israel</td>\n",
       "      <td>1,2,3,4,5,6,7,8,9,11,13</td>\n",
       "      <td>1</td>\n",
       "      <td>30</td>\n",
       "      <td>40</td>\n",
       "      <td>51</td>\n",
       "      <td>NaN</td>\n",
       "      <td>NaN</td>\n",
       "      <td>0</td>\n",
       "    </tr>\n",
       "    <tr>\n",
       "      <th>1</th>\n",
       "      <td>891782112</td>\n",
       "      <td>57</td>\n",
       "      <td>0</td>\n",
       "      <td>NaN</td>\n",
       "      <td>Italy</td>\n",
       "      <td>1</td>\n",
       "      <td>1</td>\n",
       "      <td>54</td>\n",
       "      <td>60</td>\n",
       "      <td>0</td>\n",
       "      <td>NaN</td>\n",
       "      <td>NaN</td>\n",
       "      <td>0</td>\n",
       "    </tr>\n",
       "    <tr>\n",
       "      <th>2</th>\n",
       "      <td>891110337</td>\n",
       "      <td>30</td>\n",
       "      <td>769</td>\n",
       "      <td>NaN</td>\n",
       "      <td>France</td>\n",
       "      <td>1,2,3,4,5</td>\n",
       "      <td>1</td>\n",
       "      <td>27</td>\n",
       "      <td>33</td>\n",
       "      <td>13</td>\n",
       "      <td>NaN</td>\n",
       "      <td>NaN</td>\n",
       "      <td>0</td>\n",
       "    </tr>\n",
       "    <tr>\n",
       "      <th>3</th>\n",
       "      <td>891796320</td>\n",
       "      <td>48</td>\n",
       "      <td>750</td>\n",
       "      <td>NaN</td>\n",
       "      <td>France</td>\n",
       "      <td>1,4,6,8,10,11,12,14,15,16,18</td>\n",
       "      <td>1</td>\n",
       "      <td>45</td>\n",
       "      <td>51</td>\n",
       "      <td>12</td>\n",
       "      <td>NaN</td>\n",
       "      <td>NaN</td>\n",
       "      <td>0</td>\n",
       "    </tr>\n",
       "    <tr>\n",
       "      <th>4</th>\n",
       "      <td>891880212</td>\n",
       "      <td>54</td>\n",
       "      <td>638</td>\n",
       "      <td>NaN</td>\n",
       "      <td>United States of America</td>\n",
       "      <td>1</td>\n",
       "      <td>1</td>\n",
       "      <td>35</td>\n",
       "      <td>53</td>\n",
       "      <td>94</td>\n",
       "      <td>NaN</td>\n",
       "      <td>NaN</td>\n",
       "      <td>0</td>\n",
       "    </tr>\n",
       "  </tbody>\n",
       "</table>\n",
       "</div>"
      ],
      "text/plain": [
       "         uid  age  attraction_coeff  coins                   country  \\\n",
       "0  892035504   37               137    NaN                    Israel   \n",
       "1  891782112   57                 0    NaN                     Italy   \n",
       "2  891110337   30               769    NaN                    France   \n",
       "3  891796320   48               750    NaN                    France   \n",
       "4  891880212   54               638    NaN  United States of America   \n",
       "\n",
       "                     visit_days  gender  age_filter_start  age_filter_end  \\\n",
       "0       1,2,3,4,5,6,7,8,9,11,13       1                30              40   \n",
       "1                             1       1                54              60   \n",
       "2                     1,2,3,4,5       1                27              33   \n",
       "3  1,4,6,8,10,11,12,14,15,16,18       1                45              51   \n",
       "4                             1       1                35              53   \n",
       "\n",
       "   views_count  was_premium  is_premium  total_revenue  \n",
       "0           51          NaN         NaN              0  \n",
       "1            0          NaN         NaN              0  \n",
       "2           13          NaN         NaN              0  \n",
       "3           12          NaN         NaN              0  \n",
       "4           94          NaN         NaN              0  "
      ]
     },
     "execution_count": 9,
     "metadata": {},
     "output_type": "execute_result"
    }
   ],
   "source": [
    "users_control_2.head()"
   ]
  },
  {
   "cell_type": "code",
   "execution_count": 10,
   "metadata": {},
   "outputs": [
    {
     "name": "stdout",
     "output_type": "stream",
     "text": [
      "<class 'pandas.core.frame.DataFrame'>\n",
      "RangeIndex: 4264 entries, 0 to 4263\n",
      "Data columns (total 13 columns):\n",
      " #   Column            Non-Null Count  Dtype  \n",
      "---  ------            --------------  -----  \n",
      " 0   uid               4264 non-null   int64  \n",
      " 1   age               4264 non-null   int64  \n",
      " 2   attraction_coeff  4264 non-null   int64  \n",
      " 3   coins             61 non-null     float64\n",
      " 4   country           4264 non-null   object \n",
      " 5   visit_days        2900 non-null   object \n",
      " 6   gender            4264 non-null   int64  \n",
      " 7   age_filter_start  4264 non-null   int64  \n",
      " 8   age_filter_end    4264 non-null   int64  \n",
      " 9   views_count       4264 non-null   int64  \n",
      " 10  was_premium       411 non-null    float64\n",
      " 11  is_premium        191 non-null    float64\n",
      " 12  total_revenue     4264 non-null   int64  \n",
      "dtypes: float64(3), int64(8), object(2)\n",
      "memory usage: 433.2+ KB\n"
     ]
    }
   ],
   "source": [
    "users_control_2.info()"
   ]
  },
  {
   "cell_type": "code",
   "execution_count": 21,
   "metadata": {},
   "outputs": [],
   "source": [
    "#заменяем пустые ячейки на 0\n",
    "users_test      = users_test.fillna(0)\n",
    "users_control_1 = users_control_1.fillna(0)\n",
    "users_control_2 = users_control_2.fillna(0)"
   ]
  },
  {
   "cell_type": "code",
   "execution_count": 22,
   "metadata": {},
   "outputs": [
    {
     "name": "stdout",
     "output_type": "stream",
     "text": [
      "Уникальные пользователи в users_test: 4308\n",
      "Уникальные пользователи в users_control_1: 4340\n",
      "Уникальные пользователи в users_control_2: 4264\n"
     ]
    }
   ],
   "source": [
    "#Проверяем количество уникальных пользователей в каждом датасете users\n",
    "print(\"Уникальные пользователи в users_test:\", users_test['uid'].nunique())\n",
    "print(\"Уникальные пользователи в users_control_1:\", users_control_1['uid'].nunique())\n",
    "print(\"Уникальные пользователи в users_control_2:\", users_control_2['uid'].nunique())"
   ]
  },
  {
   "cell_type": "code",
   "execution_count": 6,
   "metadata": {},
   "outputs": [
    {
     "name": "stdout",
     "output_type": "stream",
     "text": [
      "Количество дубликатов в users_test: 0\n",
      "Количество дубликатов в users_control_1: 0\n",
      "Количество дубликатов в users_control_2: 0\n"
     ]
    }
   ],
   "source": [
    "#Проверяем количество полных дубликатов в каждом датасете users\n",
    "duplicates_users_test = users_test.duplicated().sum()\n",
    "duplicates_users_control_1 = users_control_1.duplicated().sum()\n",
    "duplicates_users_control_2 = users_control_2.duplicated().sum()\n",
    "print(f\"Количество дубликатов в users_test: {duplicates_users_test}\")\n",
    "print(f\"Количество дубликатов в users_control_1: {duplicates_users_control_1}\")\n",
    "print(f\"Количество дубликатов в users_control_2: {duplicates_users_control_2}\")"
   ]
  },
  {
   "cell_type": "code",
   "execution_count": 14,
   "metadata": {},
   "outputs": [
    {
     "data": {
      "text/html": [
       "<div>\n",
       "<style scoped>\n",
       "    .dataframe tbody tr th:only-of-type {\n",
       "        vertical-align: middle;\n",
       "    }\n",
       "\n",
       "    .dataframe tbody tr th {\n",
       "        vertical-align: top;\n",
       "    }\n",
       "\n",
       "    .dataframe thead th {\n",
       "        text-align: right;\n",
       "    }\n",
       "</style>\n",
       "<table border=\"1\" class=\"dataframe\">\n",
       "  <thead>\n",
       "    <tr style=\"text-align: right;\">\n",
       "      <th></th>\n",
       "      <th>uid</th>\n",
       "      <th>country</th>\n",
       "      <th>joined_at</th>\n",
       "      <th>paid_at</th>\n",
       "      <th>revenue</th>\n",
       "      <th>payment_id</th>\n",
       "      <th>from_page</th>\n",
       "      <th>product_type</th>\n",
       "    </tr>\n",
       "  </thead>\n",
       "  <tbody>\n",
       "    <tr>\n",
       "      <th>0</th>\n",
       "      <td>891345942</td>\n",
       "      <td>Italy</td>\n",
       "      <td>2017-05-11 13:00:00</td>\n",
       "      <td>2017-11-13 15:04:00</td>\n",
       "      <td>12909</td>\n",
       "      <td>147</td>\n",
       "      <td>trial_vip_popup</td>\n",
       "      <td>trial_premium</td>\n",
       "    </tr>\n",
       "    <tr>\n",
       "      <th>1</th>\n",
       "      <td>892054251</td>\n",
       "      <td>United States of America</td>\n",
       "      <td>2017-10-22 00:33:00</td>\n",
       "      <td>2017-10-30 01:37:00</td>\n",
       "      <td>13923</td>\n",
       "      <td>147</td>\n",
       "      <td>trial_vip_popup</td>\n",
       "      <td>trial_premium</td>\n",
       "    </tr>\n",
       "    <tr>\n",
       "      <th>2</th>\n",
       "      <td>892236423</td>\n",
       "      <td>United States of America</td>\n",
       "      <td>2017-10-18 01:09:00</td>\n",
       "      <td>2017-10-23 00:15:00</td>\n",
       "      <td>3783</td>\n",
       "      <td>67</td>\n",
       "      <td>menu</td>\n",
       "      <td>other_type</td>\n",
       "    </tr>\n",
       "    <tr>\n",
       "      <th>3</th>\n",
       "      <td>892236423</td>\n",
       "      <td>United States of America</td>\n",
       "      <td>2017-10-18 01:09:00</td>\n",
       "      <td>2017-10-27 22:38:00</td>\n",
       "      <td>3783</td>\n",
       "      <td>67</td>\n",
       "      <td>menu</td>\n",
       "      <td>other_type</td>\n",
       "    </tr>\n",
       "    <tr>\n",
       "      <th>4</th>\n",
       "      <td>892168170</td>\n",
       "      <td>United States of America</td>\n",
       "      <td>2017-10-19 17:10:00</td>\n",
       "      <td>2017-10-27 19:10:00</td>\n",
       "      <td>9087</td>\n",
       "      <td>147</td>\n",
       "      <td>trial_vip_popup</td>\n",
       "      <td>trial_premium</td>\n",
       "    </tr>\n",
       "  </tbody>\n",
       "</table>\n",
       "</div>"
      ],
      "text/plain": [
       "         uid                   country            joined_at  \\\n",
       "0  891345942                     Italy  2017-05-11 13:00:00   \n",
       "1  892054251  United States of America  2017-10-22 00:33:00   \n",
       "2  892236423  United States of America  2017-10-18 01:09:00   \n",
       "3  892236423  United States of America  2017-10-18 01:09:00   \n",
       "4  892168170  United States of America  2017-10-19 17:10:00   \n",
       "\n",
       "               paid_at  revenue  payment_id        from_page   product_type  \n",
       "0  2017-11-13 15:04:00    12909         147  trial_vip_popup  trial_premium  \n",
       "1  2017-10-30 01:37:00    13923         147  trial_vip_popup  trial_premium  \n",
       "2  2017-10-23 00:15:00     3783          67             menu     other_type  \n",
       "3  2017-10-27 22:38:00     3783          67             menu     other_type  \n",
       "4  2017-10-27 19:10:00     9087         147  trial_vip_popup  trial_premium  "
      ]
     },
     "execution_count": 14,
     "metadata": {},
     "output_type": "execute_result"
    }
   ],
   "source": [
    "transactions_test.head()"
   ]
  },
  {
   "cell_type": "code",
   "execution_count": 52,
   "metadata": {
    "scrolled": false
   },
   "outputs": [
    {
     "name": "stdout",
     "output_type": "stream",
     "text": [
      "<class 'pandas.core.frame.DataFrame'>\n",
      "RangeIndex: 273 entries, 0 to 272\n",
      "Data columns (total 8 columns):\n",
      " #   Column        Non-Null Count  Dtype \n",
      "---  ------        --------------  ----- \n",
      " 0   uid           273 non-null    int64 \n",
      " 1   country       273 non-null    object\n",
      " 2   joined_at     273 non-null    object\n",
      " 3   paid_at       273 non-null    object\n",
      " 4   revenue       273 non-null    int64 \n",
      " 5   payment_id    273 non-null    int64 \n",
      " 6   from_page     273 non-null    object\n",
      " 7   product_type  273 non-null    object\n",
      "dtypes: int64(3), object(5)\n",
      "memory usage: 17.2+ KB\n"
     ]
    }
   ],
   "source": [
    "transactions_test.info()"
   ]
  },
  {
   "cell_type": "code",
   "execution_count": 48,
   "metadata": {
    "scrolled": true
   },
   "outputs": [
    {
     "data": {
      "text/html": [
       "<div>\n",
       "<style scoped>\n",
       "    .dataframe tbody tr th:only-of-type {\n",
       "        vertical-align: middle;\n",
       "    }\n",
       "\n",
       "    .dataframe tbody tr th {\n",
       "        vertical-align: top;\n",
       "    }\n",
       "\n",
       "    .dataframe thead th {\n",
       "        text-align: right;\n",
       "    }\n",
       "</style>\n",
       "<table border=\"1\" class=\"dataframe\">\n",
       "  <thead>\n",
       "    <tr style=\"text-align: right;\">\n",
       "      <th></th>\n",
       "      <th>uid</th>\n",
       "      <th>country</th>\n",
       "      <th>joined_at</th>\n",
       "      <th>paid_at</th>\n",
       "      <th>revenue</th>\n",
       "      <th>payment_id</th>\n",
       "      <th>from_page</th>\n",
       "      <th>product_type</th>\n",
       "    </tr>\n",
       "  </thead>\n",
       "  <tbody>\n",
       "    <tr>\n",
       "      <th>0</th>\n",
       "      <td>891319275.0</td>\n",
       "      <td>France</td>\n",
       "      <td>2017-05-11 19:57:00</td>\n",
       "      <td>2017-12-11 21:57:00</td>\n",
       "      <td>12727.0</td>\n",
       "      <td>147.0</td>\n",
       "      <td>trial_vip_popup</td>\n",
       "      <td>trial_premium</td>\n",
       "    </tr>\n",
       "    <tr>\n",
       "      <th>1</th>\n",
       "      <td>892421826.0</td>\n",
       "      <td>Israel</td>\n",
       "      <td>2017-10-14 12:46:00</td>\n",
       "      <td>2017-10-23 12:54:00</td>\n",
       "      <td>14586.0</td>\n",
       "      <td>147.0</td>\n",
       "      <td>trial_vip_popup</td>\n",
       "      <td>trial_premium</td>\n",
       "    </tr>\n",
       "    <tr>\n",
       "      <th>2</th>\n",
       "      <td>891822480.0</td>\n",
       "      <td>Italy</td>\n",
       "      <td>2017-10-26 22:27:00</td>\n",
       "      <td>2017-12-11 20:59:00</td>\n",
       "      <td>1911.0</td>\n",
       "      <td>19.0</td>\n",
       "      <td>none</td>\n",
       "      <td>coins</td>\n",
       "    </tr>\n",
       "    <tr>\n",
       "      <th>3</th>\n",
       "      <td>891367521.0</td>\n",
       "      <td>Italy</td>\n",
       "      <td>2017-05-11 02:37:00</td>\n",
       "      <td>2017-06-11 19:15:00</td>\n",
       "      <td>1456.0</td>\n",
       "      <td>127.0</td>\n",
       "      <td>sympathy</td>\n",
       "      <td>other_type</td>\n",
       "    </tr>\n",
       "    <tr>\n",
       "      <th>4</th>\n",
       "      <td>892207959.0</td>\n",
       "      <td>France</td>\n",
       "      <td>2017-10-18 18:30:00</td>\n",
       "      <td>2017-12-11 12:03:00</td>\n",
       "      <td>1261.0</td>\n",
       "      <td>19.0</td>\n",
       "      <td>empty_likes</td>\n",
       "      <td>coins</td>\n",
       "    </tr>\n",
       "  </tbody>\n",
       "</table>\n",
       "</div>"
      ],
      "text/plain": [
       "           uid country            joined_at              paid_at  revenue  \\\n",
       "0  891319275.0  France  2017-05-11 19:57:00  2017-12-11 21:57:00  12727.0   \n",
       "1  892421826.0  Israel  2017-10-14 12:46:00  2017-10-23 12:54:00  14586.0   \n",
       "2  891822480.0   Italy  2017-10-26 22:27:00  2017-12-11 20:59:00   1911.0   \n",
       "3  891367521.0   Italy  2017-05-11 02:37:00  2017-06-11 19:15:00   1456.0   \n",
       "4  892207959.0  France  2017-10-18 18:30:00  2017-12-11 12:03:00   1261.0   \n",
       "\n",
       "   payment_id        from_page   product_type  \n",
       "0       147.0  trial_vip_popup  trial_premium  \n",
       "1       147.0  trial_vip_popup  trial_premium  \n",
       "2        19.0             none          coins  \n",
       "3       127.0         sympathy     other_type  \n",
       "4        19.0      empty_likes          coins  "
      ]
     },
     "execution_count": 48,
     "metadata": {},
     "output_type": "execute_result"
    }
   ],
   "source": [
    "transactions_control_1.head()"
   ]
  },
  {
   "cell_type": "code",
   "execution_count": 175,
   "metadata": {},
   "outputs": [
    {
     "name": "stdout",
     "output_type": "stream",
     "text": [
      "<class 'pandas.core.frame.DataFrame'>\n",
      "RangeIndex: 1007 entries, 0 to 1006\n",
      "Data columns (total 8 columns):\n",
      " #   Column        Non-Null Count  Dtype \n",
      "---  ------        --------------  ----- \n",
      " 0   uid           1007 non-null   int64 \n",
      " 1   country       377 non-null    object\n",
      " 2   joined_at     1007 non-null   object\n",
      " 3   paid_at       1007 non-null   object\n",
      " 4   revenue       1007 non-null   int64 \n",
      " 5   payment_id    1007 non-null   int64 \n",
      " 6   from_page     377 non-null    object\n",
      " 7   product_type  377 non-null    object\n",
      "dtypes: int64(3), object(5)\n",
      "memory usage: 63.1+ KB\n"
     ]
    }
   ],
   "source": [
    "transactions_control_1.info()"
   ]
  },
  {
   "cell_type": "code",
   "execution_count": 159,
   "metadata": {},
   "outputs": [],
   "source": [
    "#удаляю пустые строки\n",
    "transactions_control_1 = transactions_control_1.dropna()"
   ]
  },
  {
   "cell_type": "code",
   "execution_count": 160,
   "metadata": {},
   "outputs": [
    {
     "name": "stdout",
     "output_type": "stream",
     "text": [
      "uid              int64\n",
      "country         object\n",
      "joined_at       object\n",
      "paid_at         object\n",
      "revenue          int64\n",
      "payment_id       int64\n",
      "from_page       object\n",
      "product_type    object\n",
      "dtype: object\n"
     ]
    }
   ],
   "source": [
    "# Преобразуем uid, revenue и payment_id в int64 предварительно обрабатывая NaN\n",
    "transactions_control_1[['uid', 'revenue', 'payment_id']] = transactions_control_1[['uid', 'revenue', 'payment_id']].fillna(0).astype('int')\n",
    "\n",
    "# Проверяем тип данных\n",
    "print(transactions_control_1.dtypes)"
   ]
  },
  {
   "cell_type": "code",
   "execution_count": 17,
   "metadata": {},
   "outputs": [
    {
     "data": {
      "text/html": [
       "<div>\n",
       "<style scoped>\n",
       "    .dataframe tbody tr th:only-of-type {\n",
       "        vertical-align: middle;\n",
       "    }\n",
       "\n",
       "    .dataframe tbody tr th {\n",
       "        vertical-align: top;\n",
       "    }\n",
       "\n",
       "    .dataframe thead th {\n",
       "        text-align: right;\n",
       "    }\n",
       "</style>\n",
       "<table border=\"1\" class=\"dataframe\">\n",
       "  <thead>\n",
       "    <tr style=\"text-align: right;\">\n",
       "      <th></th>\n",
       "      <th>uid</th>\n",
       "      <th>country</th>\n",
       "      <th>joined_at</th>\n",
       "      <th>paid_at</th>\n",
       "      <th>revenue</th>\n",
       "      <th>payment_id</th>\n",
       "      <th>from_page</th>\n",
       "      <th>product_type</th>\n",
       "    </tr>\n",
       "  </thead>\n",
       "  <tbody>\n",
       "    <tr>\n",
       "      <th>0</th>\n",
       "      <td>891266616</td>\n",
       "      <td>Argentina</td>\n",
       "      <td>2017-06-11 15:25:00</td>\n",
       "      <td>2017-10-11 17:35:00</td>\n",
       "      <td>6305</td>\n",
       "      <td>19</td>\n",
       "      <td>autorefill</td>\n",
       "      <td>coins</td>\n",
       "    </tr>\n",
       "    <tr>\n",
       "      <th>1</th>\n",
       "      <td>892186737</td>\n",
       "      <td>Chile</td>\n",
       "      <td>2017-10-19 06:03:00</td>\n",
       "      <td>2017-04-11 08:53:00</td>\n",
       "      <td>4732</td>\n",
       "      <td>147</td>\n",
       "      <td>promo_09</td>\n",
       "      <td>premium_no_trial</td>\n",
       "    </tr>\n",
       "    <tr>\n",
       "      <th>2</th>\n",
       "      <td>891959004</td>\n",
       "      <td>United States of America</td>\n",
       "      <td>2017-10-24 00:12:00</td>\n",
       "      <td>2017-10-31 02:12:00</td>\n",
       "      <td>10153</td>\n",
       "      <td>147</td>\n",
       "      <td>trial_vip_popup</td>\n",
       "      <td>trial_premium</td>\n",
       "    </tr>\n",
       "    <tr>\n",
       "      <th>3</th>\n",
       "      <td>892115478</td>\n",
       "      <td>Spain</td>\n",
       "      <td>2017-10-20 20:39:00</td>\n",
       "      <td>2017-10-26 06:26:00</td>\n",
       "      <td>2366</td>\n",
       "      <td>67</td>\n",
       "      <td>empty_likes</td>\n",
       "      <td>other_type</td>\n",
       "    </tr>\n",
       "    <tr>\n",
       "      <th>4</th>\n",
       "      <td>891592941</td>\n",
       "      <td>Switzerland</td>\n",
       "      <td>2017-10-31 12:40:00</td>\n",
       "      <td>2017-03-11 16:25:00</td>\n",
       "      <td>6292</td>\n",
       "      <td>147</td>\n",
       "      <td>promo_09</td>\n",
       "      <td>premium_no_trial</td>\n",
       "    </tr>\n",
       "  </tbody>\n",
       "</table>\n",
       "</div>"
      ],
      "text/plain": [
       "         uid                   country            joined_at  \\\n",
       "0  891266616                 Argentina  2017-06-11 15:25:00   \n",
       "1  892186737                     Chile  2017-10-19 06:03:00   \n",
       "2  891959004  United States of America  2017-10-24 00:12:00   \n",
       "3  892115478                     Spain  2017-10-20 20:39:00   \n",
       "4  891592941               Switzerland  2017-10-31 12:40:00   \n",
       "\n",
       "               paid_at  revenue  payment_id        from_page      product_type  \n",
       "0  2017-10-11 17:35:00     6305          19       autorefill             coins  \n",
       "1  2017-04-11 08:53:00     4732         147         promo_09  premium_no_trial  \n",
       "2  2017-10-31 02:12:00    10153         147  trial_vip_popup     trial_premium  \n",
       "3  2017-10-26 06:26:00     2366          67      empty_likes        other_type  \n",
       "4  2017-03-11 16:25:00     6292         147         promo_09  premium_no_trial  "
      ]
     },
     "execution_count": 17,
     "metadata": {},
     "output_type": "execute_result"
    }
   ],
   "source": [
    "transactions_control_2.head()"
   ]
  },
  {
   "cell_type": "code",
   "execution_count": 57,
   "metadata": {},
   "outputs": [
    {
     "name": "stdout",
     "output_type": "stream",
     "text": [
      "<class 'pandas.core.frame.DataFrame'>\n",
      "RangeIndex: 328 entries, 0 to 327\n",
      "Data columns (total 8 columns):\n",
      " #   Column        Non-Null Count  Dtype \n",
      "---  ------        --------------  ----- \n",
      " 0   uid           328 non-null    int64 \n",
      " 1   country       328 non-null    object\n",
      " 2   joined_at     328 non-null    object\n",
      " 3   paid_at       328 non-null    object\n",
      " 4   revenue       328 non-null    int64 \n",
      " 5   payment_id    328 non-null    int64 \n",
      " 6   from_page     328 non-null    object\n",
      " 7   product_type  328 non-null    object\n",
      "dtypes: int64(3), object(5)\n",
      "memory usage: 20.6+ KB\n"
     ]
    }
   ],
   "source": [
    "transactions_control_2.info()"
   ]
  },
  {
   "cell_type": "code",
   "execution_count": 161,
   "metadata": {},
   "outputs": [],
   "source": [
    "# Преобразуем столбцы joined_at и paid_at в формат datetime\n",
    "transactions_test[['joined_at', 'paid_at']] = transactions_test[['joined_at', 'paid_at']].apply(pd.to_datetime)\n",
    "transactions_control_1[['joined_at', 'paid_at']] = transactions_control_1[['joined_at', 'paid_at']].apply(pd.to_datetime)\n",
    "transactions_control_2[['joined_at', 'paid_at']] = transactions_control_2[['joined_at', 'paid_at']].apply(pd.to_datetime)"
   ]
  },
  {
   "cell_type": "code",
   "execution_count": 10,
   "metadata": {},
   "outputs": [
    {
     "name": "stdout",
     "output_type": "stream",
     "text": [
      "Количество строк в transactions_test: 273\n",
      "Количество строк в transactions_control_1: 377\n",
      "Количество строк в transactions_control_2: 328\n"
     ]
    }
   ],
   "source": [
    "# Проверяем, размер строк в датасетах transactions\n",
    "print(\"Количество строк в transactions_test:\", len(transactions_test))\n",
    "print(\"Количество строк в transactions_control_1:\", len(transactions_control_1))\n",
    "print(\"Количество строк в transactions_control_2:\", len(transactions_control_2))"
   ]
  },
  {
   "cell_type": "code",
   "execution_count": 68,
   "metadata": {},
   "outputs": [
    {
     "name": "stdout",
     "output_type": "stream",
     "text": [
      "Уникальные пользователи в transactions_test: 146\n",
      "Уникальные пользователи в transactions_control_1: 193\n",
      "Уникальные пользователи в transactions_control_2: 187\n"
     ]
    }
   ],
   "source": [
    "#Проверяем количество уникальных пользователей в каждом датасете transactions\n",
    "print(\"Уникальные пользователи в transactions_test:\", transactions_test['uid'].nunique())\n",
    "print(\"Уникальные пользователи в transactions_control_1:\", transactions_control_1['uid'].nunique())\n",
    "print(\"Уникальные пользователи в transactions_control_2:\", transactions_control_2['uid'].nunique())"
   ]
  },
  {
   "cell_type": "code",
   "execution_count": 69,
   "metadata": {},
   "outputs": [
    {
     "name": "stdout",
     "output_type": "stream",
     "text": [
      "Количество дубликатов в transactions_test: 7\n",
      "Количество дубликатов в transactions_control_1: 21\n",
      "Количество дубликатов в transactions_control_2: 5\n"
     ]
    }
   ],
   "source": [
    "#Проверяем количество полных дубликатов в каждом датасете transactions\n",
    "duplicates_transactions_test = transactions_test.duplicated().sum()\n",
    "duplicates_transactions_control_1 = transactions_control_1.duplicated().sum()\n",
    "duplicates_transactions_control_2 = transactions_control_2.duplicated().sum()\n",
    "print(f\"Количество дубликатов в transactions_test: {duplicates_transactions_test}\")\n",
    "print(f\"Количество дубликатов в transactions_control_1: {duplicates_transactions_control_1}\")\n",
    "print(f\"Количество дубликатов в transactions_control_2: {duplicates_transactions_control_2}\")"
   ]
  },
  {
   "cell_type": "code",
   "execution_count": 162,
   "metadata": {},
   "outputs": [
    {
     "name": "stdout",
     "output_type": "stream",
     "text": [
      "Количество строк в transactions_test после удаления полных дубликатов: 266\n",
      "Количество строк в transactions_control_1 после удаления полных дубликатов: 356\n",
      "Количество строк в transactions_control_2 после удаления полных дубликатов: 323\n"
     ]
    }
   ],
   "source": [
    "# Удаляем дубликаты и перезаписываем датасеты transactions\n",
    "transactions_test = transactions_test.drop_duplicates()\n",
    "transactions_control_1 = transactions_control_1.drop_duplicates()\n",
    "transactions_control_2 = transactions_control_2.drop_duplicates()\n",
    "\n",
    "# Проверяем, что дубликаты удалены\n",
    "print(\"Количество строк в transactions_test после удаления полных дубликатов:\", len(transactions_test))\n",
    "print(\"Количество строк в transactions_control_1 после удаления полных дубликатов:\", len(transactions_control_1))\n",
    "print(\"Количество строк в transactions_control_2 после удаления полных дубликатов:\", len(transactions_control_2))"
   ]
  },
  {
   "cell_type": "code",
   "execution_count": 163,
   "metadata": {},
   "outputs": [
    {
     "name": "stdout",
     "output_type": "stream",
     "text": [
      "Количество строк в transactions_test после фильтрации: 219\n",
      "Количество строк в transactions_control_1 после фильтрации: 301\n",
      "Количество строк в transactions_control_2 после фильтрации: 263\n"
     ]
    }
   ],
   "source": [
    "# Удаляем записи, где дата оплаты раньше даты присоединения\n",
    "transactions_test = transactions_test[transactions_test['paid_at'] >= transactions_test['joined_at']]\n",
    "transactions_control_1 = transactions_control_1[transactions_control_1['paid_at'] >= transactions_control_1['joined_at']]\n",
    "transactions_control_2 = transactions_control_2[transactions_control_2['paid_at'] >= transactions_control_2['joined_at']]\n",
    "# Проверяем количество записей после фильтрации\n",
    "print(\"Количество строк в transactions_test после фильтрации:\", len(transactions_test))\n",
    "print(\"Количество строк в transactions_control_1 после фильтрации:\", len(transactions_control_1))\n",
    "print(\"Количество строк в transactions_control_2 после фильтрации:\", len(transactions_control_2))"
   ]
  },
  {
   "cell_type": "markdown",
   "metadata": {},
   "source": [
    "**Фильтруем данные по условиям задачи**"
   ]
  },
  {
   "cell_type": "markdown",
   "metadata": {},
   "source": [
    "В условиях задачи сказано, что в результате проведения А/В теста были выбраны новые пользователи из нескольких стран дя которых была изменена стоимость премиум-подписки при покупке через две новые платежные системы. При этом стоимость пробного периода оставалась прежней. \n",
    "\n",
    "Требуется определить новых пользователей, совершивших покупку премиум подписки, платежных систем и страны, в которых проводился эксперемент. "
   ]
  },
  {
   "cell_type": "markdown",
   "metadata": {},
   "source": [
    "Определим временные рамки проведения эксперемента"
   ]
  },
  {
   "cell_type": "code",
   "execution_count": 139,
   "metadata": {},
   "outputs": [
    {
     "name": "stdout",
     "output_type": "stream",
     "text": [
      "Датасет: transactions_test\n",
      "Дата начала эксперимента (по регистрации): 2017-01-11 03:07:00\n",
      "Дата окончания эксперимента (по регистрации): 2017-10-31 23:40:00\n",
      "Дата первого платежа: 2017-02-11 13:43:00\n",
      "Дата последнего платежа: 2017-12-11 22:06:00\n",
      "--------------------------------------------------\n",
      "Датасет: transactions_control_1\n",
      "Дата начала эксперимента (по регистрации): 2015-01-19 11:49:00\n",
      "Дата окончания эксперимента (по регистрации): 2017-10-31 03:34:00\n",
      "Дата первого платежа: 2016-12-14 16:16:00\n",
      "Дата последнего платежа: 2017-12-11 21:57:00\n",
      "--------------------------------------------------\n",
      "Датасет: transactions_control_2\n",
      "Дата начала эксперимента (по регистрации): 2017-01-11 08:36:00\n",
      "Дата окончания эксперимента (по регистрации): 2017-10-30 19:29:00\n",
      "Дата первого платежа: 2017-02-11 21:52:00\n",
      "Дата последнего платежа: 2017-12-11 23:28:00\n",
      "--------------------------------------------------\n"
     ]
    }
   ],
   "source": [
    "# Определение временных рамок\n",
    "def experiment_dates(transactions_df, name):\n",
    "    start_date = transactions_df[\"joined_at\"].min()\n",
    "    end_date = transactions_df[\"joined_at\"].max()\n",
    "    \n",
    "    payment_start = transactions_df[\"paid_at\"].min()\n",
    "    payment_end = transactions_df[\"paid_at\"].max()\n",
    "    \n",
    "    print(f\"Датасет: {name}\")\n",
    "    print(f\"Дата начала эксперимента (по регистрации): {start_date}\")\n",
    "    print(f\"Дата окончания эксперимента (по регистрации): {end_date}\")\n",
    "    print(f\"Дата первого платежа: {payment_start}\")\n",
    "    print(f\"Дата последнего платежа: {payment_end}\")\n",
    "    print(\"-\" * 50)\n",
    "\n",
    "# Анализ временных рамок эксперимента\n",
    "experiment_dates(transactions_test, \"transactions_test\")\n",
    "experiment_dates(transactions_control_1, \"transactions_control_1\")\n",
    "experiment_dates(transactions_control_2, \"transactions_control_2\")"
   ]
  },
  {
   "cell_type": "markdown",
   "metadata": {},
   "source": [
    "**1. Определение новых пользователей**\n",
    "\n",
    "Из анализа по датам регистрации видно что общий промежуток времени регистрации в пределах от `2017-01-11` до `2017-10-30`, а общий промежуток первого и последнего платежа в пределах от `2017-02-11` до `2017-12-11`\n",
    "\n",
    "В контрольной группе 1 начало первой регистрации указано значительно раньше. Проверяем сколько записей не соответствует дате начала тестовой группы."
   ]
  },
  {
   "cell_type": "code",
   "execution_count": 73,
   "metadata": {},
   "outputs": [
    {
     "data": {
      "text/html": [
       "<div>\n",
       "<style scoped>\n",
       "    .dataframe tbody tr th:only-of-type {\n",
       "        vertical-align: middle;\n",
       "    }\n",
       "\n",
       "    .dataframe tbody tr th {\n",
       "        vertical-align: top;\n",
       "    }\n",
       "\n",
       "    .dataframe thead th {\n",
       "        text-align: right;\n",
       "    }\n",
       "</style>\n",
       "<table border=\"1\" class=\"dataframe\">\n",
       "  <thead>\n",
       "    <tr style=\"text-align: right;\">\n",
       "      <th></th>\n",
       "      <th>uid</th>\n",
       "      <th>country</th>\n",
       "      <th>joined_at</th>\n",
       "      <th>paid_at</th>\n",
       "      <th>revenue</th>\n",
       "      <th>payment_id</th>\n",
       "      <th>from_page</th>\n",
       "      <th>product_type</th>\n",
       "    </tr>\n",
       "  </thead>\n",
       "  <tbody>\n",
       "    <tr>\n",
       "      <th>65</th>\n",
       "      <td>960936960</td>\n",
       "      <td>Russian Federation</td>\n",
       "      <td>2015-01-19 11:49:00</td>\n",
       "      <td>2016-12-14 17:30:00</td>\n",
       "      <td>26</td>\n",
       "      <td>0</td>\n",
       "      <td>refund_VP</td>\n",
       "      <td>other_type</td>\n",
       "    </tr>\n",
       "    <tr>\n",
       "      <th>101</th>\n",
       "      <td>960936960</td>\n",
       "      <td>Russian Federation</td>\n",
       "      <td>2015-01-19 11:49:00</td>\n",
       "      <td>2016-12-14 17:35:00</td>\n",
       "      <td>637</td>\n",
       "      <td>0</td>\n",
       "      <td>refung_AP</td>\n",
       "      <td>other_type</td>\n",
       "    </tr>\n",
       "    <tr>\n",
       "      <th>224</th>\n",
       "      <td>960936960</td>\n",
       "      <td>Russian Federation</td>\n",
       "      <td>2015-01-19 11:49:00</td>\n",
       "      <td>2016-12-14 16:16:00</td>\n",
       "      <td>143</td>\n",
       "      <td>0</td>\n",
       "      <td>refund_WP</td>\n",
       "      <td>other_type</td>\n",
       "    </tr>\n",
       "  </tbody>\n",
       "</table>\n",
       "</div>"
      ],
      "text/plain": [
       "           uid             country           joined_at             paid_at  \\\n",
       "65   960936960  Russian Federation 2015-01-19 11:49:00 2016-12-14 17:30:00   \n",
       "101  960936960  Russian Federation 2015-01-19 11:49:00 2016-12-14 17:35:00   \n",
       "224  960936960  Russian Federation 2015-01-19 11:49:00 2016-12-14 16:16:00   \n",
       "\n",
       "     revenue  payment_id  from_page product_type  \n",
       "65        26           0  refund_VP   other_type  \n",
       "101      637           0  refung_AP   other_type  \n",
       "224      143           0  refund_WP   other_type  "
      ]
     },
     "execution_count": 73,
     "metadata": {},
     "output_type": "execute_result"
    }
   ],
   "source": [
    "transactions_control_1.query(\"joined_at >= '2015-01-19' & joined_at < '2017-01-11'\")"
   ]
  },
  {
   "cell_type": "code",
   "execution_count": 74,
   "metadata": {},
   "outputs": [
    {
     "data": {
      "text/html": [
       "<div>\n",
       "<style scoped>\n",
       "    .dataframe tbody tr th:only-of-type {\n",
       "        vertical-align: middle;\n",
       "    }\n",
       "\n",
       "    .dataframe tbody tr th {\n",
       "        vertical-align: top;\n",
       "    }\n",
       "\n",
       "    .dataframe thead th {\n",
       "        text-align: right;\n",
       "    }\n",
       "</style>\n",
       "<table border=\"1\" class=\"dataframe\">\n",
       "  <thead>\n",
       "    <tr style=\"text-align: right;\">\n",
       "      <th></th>\n",
       "      <th>uid</th>\n",
       "      <th>country</th>\n",
       "      <th>joined_at</th>\n",
       "      <th>paid_at</th>\n",
       "      <th>revenue</th>\n",
       "      <th>payment_id</th>\n",
       "      <th>from_page</th>\n",
       "      <th>product_type</th>\n",
       "    </tr>\n",
       "  </thead>\n",
       "  <tbody>\n",
       "    <tr>\n",
       "      <th>65</th>\n",
       "      <td>960936960</td>\n",
       "      <td>Russian Federation</td>\n",
       "      <td>2015-01-19 11:49:00</td>\n",
       "      <td>2016-12-14 17:30:00</td>\n",
       "      <td>26</td>\n",
       "      <td>0</td>\n",
       "      <td>refund_VP</td>\n",
       "      <td>other_type</td>\n",
       "    </tr>\n",
       "    <tr>\n",
       "      <th>101</th>\n",
       "      <td>960936960</td>\n",
       "      <td>Russian Federation</td>\n",
       "      <td>2015-01-19 11:49:00</td>\n",
       "      <td>2016-12-14 17:35:00</td>\n",
       "      <td>637</td>\n",
       "      <td>0</td>\n",
       "      <td>refung_AP</td>\n",
       "      <td>other_type</td>\n",
       "    </tr>\n",
       "    <tr>\n",
       "      <th>224</th>\n",
       "      <td>960936960</td>\n",
       "      <td>Russian Federation</td>\n",
       "      <td>2015-01-19 11:49:00</td>\n",
       "      <td>2016-12-14 16:16:00</td>\n",
       "      <td>143</td>\n",
       "      <td>0</td>\n",
       "      <td>refund_WP</td>\n",
       "      <td>other_type</td>\n",
       "    </tr>\n",
       "  </tbody>\n",
       "</table>\n",
       "</div>"
      ],
      "text/plain": [
       "           uid             country           joined_at             paid_at  \\\n",
       "65   960936960  Russian Federation 2015-01-19 11:49:00 2016-12-14 17:30:00   \n",
       "101  960936960  Russian Federation 2015-01-19 11:49:00 2016-12-14 17:35:00   \n",
       "224  960936960  Russian Federation 2015-01-19 11:49:00 2016-12-14 16:16:00   \n",
       "\n",
       "     revenue  payment_id  from_page product_type  \n",
       "65        26           0  refund_VP   other_type  \n",
       "101      637           0  refung_AP   other_type  \n",
       "224      143           0  refund_WP   other_type  "
      ]
     },
     "execution_count": 74,
     "metadata": {},
     "output_type": "execute_result"
    }
   ],
   "source": [
    "transactions_control_1.query(\"paid_at >= '2016-12-14' & joined_at < '2017-01-11'\")"
   ]
  },
  {
   "cell_type": "code",
   "execution_count": 75,
   "metadata": {},
   "outputs": [
    {
     "data": {
      "text/html": [
       "<div>\n",
       "<style scoped>\n",
       "    .dataframe tbody tr th:only-of-type {\n",
       "        vertical-align: middle;\n",
       "    }\n",
       "\n",
       "    .dataframe tbody tr th {\n",
       "        vertical-align: top;\n",
       "    }\n",
       "\n",
       "    .dataframe thead th {\n",
       "        text-align: right;\n",
       "    }\n",
       "</style>\n",
       "<table border=\"1\" class=\"dataframe\">\n",
       "  <thead>\n",
       "    <tr style=\"text-align: right;\">\n",
       "      <th></th>\n",
       "      <th>uid</th>\n",
       "      <th>age</th>\n",
       "      <th>attraction_coeff</th>\n",
       "      <th>coins</th>\n",
       "      <th>country</th>\n",
       "      <th>visit_days</th>\n",
       "      <th>gender</th>\n",
       "      <th>age_filter_start</th>\n",
       "      <th>age_filter_end</th>\n",
       "      <th>views_count</th>\n",
       "      <th>was_premium</th>\n",
       "      <th>is_premium</th>\n",
       "      <th>total_revenue</th>\n",
       "    </tr>\n",
       "  </thead>\n",
       "  <tbody>\n",
       "    <tr>\n",
       "      <th>510</th>\n",
       "      <td>960936960</td>\n",
       "      <td>30</td>\n",
       "      <td>4</td>\n",
       "      <td>99958.0</td>\n",
       "      <td>Russian Federation</td>\n",
       "      <td>1,2,3,4,7,8,9,10,11,14,15,16,17,18,21,22,23,24...</td>\n",
       "      <td>1</td>\n",
       "      <td>26</td>\n",
       "      <td>62</td>\n",
       "      <td>4262</td>\n",
       "      <td>1.0</td>\n",
       "      <td>1.0</td>\n",
       "      <td>26</td>\n",
       "    </tr>\n",
       "  </tbody>\n",
       "</table>\n",
       "</div>"
      ],
      "text/plain": [
       "           uid  age  attraction_coeff    coins             country  \\\n",
       "510  960936960   30                 4  99958.0  Russian Federation   \n",
       "\n",
       "                                            visit_days  gender  \\\n",
       "510  1,2,3,4,7,8,9,10,11,14,15,16,17,18,21,22,23,24...       1   \n",
       "\n",
       "     age_filter_start  age_filter_end  views_count  was_premium  is_premium  \\\n",
       "510                26              62         4262          1.0         1.0   \n",
       "\n",
       "     total_revenue  \n",
       "510             26  "
      ]
     },
     "execution_count": 75,
     "metadata": {},
     "output_type": "execute_result"
    }
   ],
   "source": [
    "users_control_1.query('uid == 960936960')"
   ]
  },
  {
   "cell_type": "markdown",
   "metadata": {},
   "source": [
    "Видно что данные для пользователя `uid == 960936960` аномальны. Убираем его из данных"
   ]
  },
  {
   "cell_type": "code",
   "execution_count": 164,
   "metadata": {},
   "outputs": [],
   "source": [
    "# Уберем пользователя из обоих df\n",
    "users_control_1 = users_control_1.drop(users_control_1.query('uid==960936960').index)"
   ]
  },
  {
   "cell_type": "code",
   "execution_count": 165,
   "metadata": {},
   "outputs": [
    {
     "name": "stdout",
     "output_type": "stream",
     "text": [
      "Количество строк в transactions_test после фильтрации: 214\n",
      "Количество строк в transactions_control_1 после фильтрации: 296\n",
      "Количество строк в transactions_control_2 после фильтрации: 263\n"
     ]
    }
   ],
   "source": [
    "# Отфильтруем данные в датасетах transactions\n",
    "transactions_test = transactions_test[(transactions_test[\"joined_at\"] >= \"2017-01-11\") & (transactions_test[\"joined_at\"] < \"2017-10-31\")]\n",
    "transactions_control_1 = transactions_control_1[(transactions_control_1[\"joined_at\"] >= \"2017-01-11\") & (transactions_control_1[\"joined_at\"] < \"2017-10-31\")]\n",
    "transactions_control_2 = transactions_control_2[(transactions_control_2[\"joined_at\"] >= \"2017-01-11\") & (transactions_control_2[\"joined_at\"] < \"2017-10-31\")]\n",
    "# Проверяем количество записей после фильтрации\n",
    "print(\"Количество строк в transactions_test после фильтрации:\", len(transactions_test))\n",
    "print(\"Количество строк в transactions_control_1 после фильтрации:\", len(transactions_control_1))\n",
    "print(\"Количество строк в transactions_control_2 после фильтрации:\", len(transactions_control_2))"
   ]
  },
  {
   "cell_type": "markdown",
   "metadata": {},
   "source": [
    "**2. Определим сколько стран фигурирует в датасетах**"
   ]
  },
  {
   "cell_type": "code",
   "execution_count": 78,
   "metadata": {},
   "outputs": [
    {
     "name": "stdout",
     "output_type": "stream",
     "text": [
      "Датасет: users_test\n",
      "Уникальных стран: 16\n",
      "Топ-10 стран по количеству пользователей:\n",
      "United States of America          76\n",
      "France                            22\n",
      "Spain                             20\n",
      "Israel                            14\n",
      "Italy                             12\n",
      "United Kingdom (Great Britain)    11\n",
      "United Arab Emirates              10\n",
      "Argentina                          9\n",
      "Canada                             9\n",
      "Chile                              9\n",
      "Name: country, dtype: int64\n",
      "----------------------------------------\n",
      "Датасет: users_control_1\n",
      "Уникальных стран: 17\n",
      "Топ-10 стран по количеству пользователей:\n",
      "United States of America          89\n",
      "Italy                             45\n",
      "France                            31\n",
      "United Kingdom (Great Britain)    23\n",
      "Israel                            20\n",
      "Argentina                         18\n",
      "Chile                             14\n",
      "Canada                            11\n",
      "Spain                             11\n",
      "United Arab Emirates               9\n",
      "Name: country, dtype: int64\n",
      "----------------------------------------\n",
      "Датасет: users_control_2\n",
      "Уникальных стран: 17\n",
      "Топ-10 стран по количеству пользователей:\n",
      "United States of America          85\n",
      "Italy                             27\n",
      "Spain                             21\n",
      "United Kingdom (Great Britain)    18\n",
      "France                            17\n",
      "Argentina                         17\n",
      "Israel                            16\n",
      "Chile                             14\n",
      "Belgium                           13\n",
      "Portugal                          10\n",
      "Name: country, dtype: int64\n",
      "----------------------------------------\n"
     ]
    }
   ],
   "source": [
    "# Анализа стран в датасетах \n",
    "def country_stats(df, name):\n",
    "    country_counts = df[\"country\"].value_counts()  # Считаем, сколько раз встречается каждая страна\n",
    "    unique_countries = country_counts.shape[0]  # Число уникальных стран\n",
    "    \n",
    "    print(f\"Датасет: {name}\")\n",
    "    print(f\"Уникальных стран: {unique_countries}\")\n",
    "    print(\"Топ-10 стран по количеству пользователей:\")\n",
    "    print(country_counts.head(10))  # Вывести топ-10 стран\n",
    "    print(\"-\" * 40)\n",
    "\n",
    "# Анализируем страны в каждом датасете пользователей\n",
    "country_stats(transactions_test, \"users_test\")\n",
    "country_stats(transactions_control_1, \"users_control_1\")\n",
    "country_stats(transactions_control_2, \"users_control_2\")"
   ]
  },
  {
   "cell_type": "markdown",
   "metadata": {},
   "source": [
    "Количество стран в контрольных группах больше чем в тестовой"
   ]
  },
  {
   "cell_type": "code",
   "execution_count": 166,
   "metadata": {},
   "outputs": [
    {
     "name": "stdout",
     "output_type": "stream",
     "text": [
      "Общие страны во всех датасетах: {'Germany', 'France', 'Turkey', 'United Kingdom (Great Britain)', 'Israel', 'Italy', 'Canada', 'United Arab Emirates', 'Chile', 'Switzerland', 'Spain', 'United States of America', 'Belgium', 'Argentina'}\n"
     ]
    }
   ],
   "source": [
    "# Находим уникальные страны в каждом датасете\n",
    "countries_test = set(transactions_test[\"country\"].unique())\n",
    "countries_control_1 = set(transactions_control_1[\"country\"].unique())\n",
    "countries_control_2 = set(transactions_control_2[\"country\"].unique())\n",
    "\n",
    "# Определяем пересечение стран во всех трех датасетах\n",
    "common_countries = countries_test & countries_control_1 & countries_control_2\n",
    "\n",
    "print(f\"Общие страны во всех датасетах: {common_countries}\")"
   ]
  },
  {
   "cell_type": "code",
   "execution_count": 167,
   "metadata": {},
   "outputs": [
    {
     "name": "stdout",
     "output_type": "stream",
     "text": [
      "Количество записей после фильтрации по общим странам:\n",
      "transactions_test: 209\n",
      "transactions_control_1: 288\n",
      "transactions_control_2: 248\n"
     ]
    }
   ],
   "source": [
    "# Оставляем только записи с общими странами\n",
    "transactions_test = transactions_test[transactions_test[\"country\"].isin(common_countries)]\n",
    "transactions_control_1 = transactions_control_1[transactions_control_1[\"country\"].isin(common_countries)]\n",
    "transactions_control_2 = transactions_control_2[transactions_control_2[\"country\"].isin(common_countries)]\n",
    "\n",
    "# Проверка количества записей после фильтрации\n",
    "print(\"Количество записей после фильтрации по общим странам:\")\n",
    "print(\"transactions_test:\", transactions_test.shape[0])\n",
    "print(\"transactions_control_1:\", transactions_control_1.shape[0])\n",
    "print(\"transactions_control_2:\", transactions_control_2.shape[0])"
   ]
  },
  {
   "cell_type": "markdown",
   "metadata": {},
   "source": [
    "т.к. эксперемент проводился не во всех странах, то в датасетах users так же оставляем только общие страны во всех группах"
   ]
  },
  {
   "cell_type": "code",
   "execution_count": 168,
   "metadata": {},
   "outputs": [
    {
     "name": "stdout",
     "output_type": "stream",
     "text": [
      "Количество записей после фильтрации по общим странам:\n",
      "users_test: 4080\n",
      "users_control_1: 4139\n",
      "users_control_2: 4049\n"
     ]
    }
   ],
   "source": [
    "# Фильтруем пользователей, оставляя только общие страны\n",
    "users_test = users_test[users_test[\"country\"].isin(common_countries)]\n",
    "users_control_1 = users_control_1[users_control_1[\"country\"].isin(common_countries)]\n",
    "users_control_2 = users_control_2[users_control_2[\"country\"].isin(common_countries)]\n",
    "\n",
    "# Проверяем количество записей после фильтрации\n",
    "print(\"Количество записей после фильтрации по общим странам:\")\n",
    "print(f\"users_test: {users_test.shape[0]}\")\n",
    "print(f\"users_control_1: {users_control_1.shape[0]}\")\n",
    "print(f\"users_control_2: {users_control_2.shape[0]}\")"
   ]
  },
  {
   "cell_type": "markdown",
   "metadata": {},
   "source": [
    "**2. Определим платежные системы, которымы пользовались клиенты.**\n",
    "\n",
    "Нас интересуют только те пользователи, которые совершили покупку премиум подписки. "
   ]
  },
  {
   "cell_type": "code",
   "execution_count": 82,
   "metadata": {},
   "outputs": [
    {
     "name": "stdout",
     "output_type": "stream",
     "text": [
      "Используемые платежные системы (test):\n",
      "147    49\n",
      "68     10\n",
      "0       1\n",
      "Name: payment_id, dtype: int64\n",
      "\n",
      "Используемые платежные системы (control_1):\n",
      "147    74\n",
      "68     14\n",
      "0       2\n",
      "Name: payment_id, dtype: int64\n",
      "\n",
      "Используемые платежные системы (control_2):\n",
      "147    77\n",
      "68     11\n",
      "Name: payment_id, dtype: int64\n"
     ]
    }
   ],
   "source": [
    "# Фильтруем транзакции только по premium_no_trial\n",
    "premium_transactions_test = transactions_test[transactions_test[\"product_type\"] == \"premium_no_trial\"]\n",
    "premium_transactions_control_1 = transactions_control_1[transactions_control_1[\"product_type\"] == \"premium_no_trial\"]\n",
    "premium_transactions_control_2 = transactions_control_2[transactions_control_2[\"product_type\"] == \"premium_no_trial\"]\n",
    "\n",
    "# Определяем, какие платежные системы использовались\n",
    "payment_methods_test = premium_transactions_test[\"payment_id\"].value_counts()\n",
    "payment_methods_control_1 = premium_transactions_control_1[\"payment_id\"].value_counts()\n",
    "payment_methods_control_2 = premium_transactions_control_2[\"payment_id\"].value_counts()\n",
    "\n",
    "# Вывод результатов\n",
    "print(\"Используемые платежные системы (test):\")\n",
    "print(payment_methods_test)\n",
    "print(\"\\nИспользуемые платежные системы (control_1):\")\n",
    "print(payment_methods_control_1)\n",
    "print(\"\\nИспользуемые платежные системы (control_2):\")\n",
    "print(payment_methods_control_2)"
   ]
  },
  {
   "cell_type": "markdown",
   "metadata": {},
   "source": [
    "Нам необходимо оставить только 2 платежные системы: 147 и 68. т.к. в них было совершено больше транзакций."
   ]
  },
  {
   "cell_type": "code",
   "execution_count": 169,
   "metadata": {},
   "outputs": [
    {
     "name": "stdout",
     "output_type": "stream",
     "text": [
      "Оставшиеся записи после фильтрации:\n",
      "transactions_test: 108\n",
      "transactions_control_1: 140\n",
      "transactions_control_2: 120\n"
     ]
    }
   ],
   "source": [
    "# Фильтрация транзакций по payment_id\n",
    "filtered_transactions_test = transactions_test[transactions_test[\"payment_id\"].isin([147, 68])]\n",
    "filtered_transactions_control_1 = transactions_control_1[transactions_control_1[\"payment_id\"].isin([147, 68])]\n",
    "filtered_transactions_control_2 = transactions_control_2[transactions_control_2[\"payment_id\"].isin([147, 68])]\n",
    "\n",
    "# Проверка количества оставшихся записей\n",
    "print(\"Оставшиеся записи после фильтрации:\")\n",
    "print(\"transactions_test:\", filtered_transactions_test.shape[0])\n",
    "print(\"transactions_control_1:\", filtered_transactions_control_1.shape[0])\n",
    "print(\"transactions_control_2:\", filtered_transactions_control_2.shape[0])\n"
   ]
  },
  {
   "cell_type": "code",
   "execution_count": 170,
   "metadata": {},
   "outputs": [
    {
     "name": "stdout",
     "output_type": "stream",
     "text": [
      "Количество записей после фильтрации по общим uid:\n",
      "users_test: 103\n",
      "users_control_1: 136\n",
      "users_control_2: 117\n"
     ]
    }
   ],
   "source": [
    "# Получаем списки общих uid из датасетов transactions\n",
    "common_uids_test = set(filtered_transactions_test[\"uid\"])\n",
    "common_uids_control_1 = set(filtered_transactions_control_1[\"uid\"])\n",
    "common_uids_control_2 = set(filtered_transactions_control_2[\"uid\"])\n",
    "\n",
    "# Фильтруем users, оставляя только пользователей с uid из transactions\n",
    "filtered_users_test = users_test[users_test[\"uid\"].isin(common_uids_test)]\n",
    "filtered_users_control_1 = users_control_1[users_control_1[\"uid\"].isin(common_uids_control_1)]\n",
    "filtered_users_control_2 = users_control_2[users_control_2[\"uid\"].isin(common_uids_control_2)]\n",
    "\n",
    "# Проверяем количество записей после фильтрации\n",
    "print(\"Количество записей после фильтрации по общим uid:\")\n",
    "print(f\"users_test: {filtered_users_test.shape[0]}\")\n",
    "print(f\"users_control_1: {filtered_users_control_1.shape[0]}\")\n",
    "print(f\"users_control_2: {filtered_users_control_2.shape[0]}\")"
   ]
  },
  {
   "cell_type": "markdown",
   "metadata": {},
   "source": [
    "**Прежде чем проводить оценку эффективности проведеных тестов, убедимся что во всех группах отсутствуют аномалии**"
   ]
  },
  {
   "cell_type": "markdown",
   "metadata": {},
   "source": [
    "- Определим соотношение полов в каждой группе. Предположим что 0 - это женщины, а 1- это мужчины"
   ]
  },
  {
   "cell_type": "code",
   "execution_count": 85,
   "metadata": {},
   "outputs": [
    {
     "data": {
      "image/png": "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\n",
      "text/plain": [
       "<Figure size 864x864 with 6 Axes>"
      ]
     },
     "metadata": {
      "needs_background": "light"
     },
     "output_type": "display_data"
    }
   ],
   "source": [
    "def plot_gender_distribution(ax, df, title):\n",
    "    gender_counts = df[\"gender\"].value_counts(normalize=True) * 100  # Процентное соотношение\n",
    "    sns.barplot(x=gender_counts.index, y=gender_counts.values, ax=ax, palette=[\"pink\", \"blue\"])\n",
    "    ax.set_xticks([0, 1])\n",
    "    ax.set_xticklabels([\"Женщины (0)\", \"Мужчины (1)\"])\n",
    "    ax.set_ylabel(\"Доля (%)\")\n",
    "    ax.set_title(title)\n",
    "\n",
    "fig, axes = plt.subplots(3, 2, figsize=(12, 12))\n",
    "\n",
    "plot_gender_distribution(axes[0, 0], users_test, \"Все пользователи - Тестовая группа\")\n",
    "plot_gender_distribution(axes[0, 1], filtered_users_test, \"Премиум пользователи - Тестовая группа\")\n",
    "\n",
    "plot_gender_distribution(axes[1, 0], users_control_1, \"Все пользователи - Контрольная 1\")\n",
    "plot_gender_distribution(axes[1, 1], filtered_users_control_1, \"Премиум пользователи - Контрольная 1\")\n",
    "\n",
    "plot_gender_distribution(axes[2, 0], users_control_2, \"Все пользователи - Контрольная 2\")\n",
    "plot_gender_distribution(axes[2, 1], filtered_users_control_2, \"Премиум пользователи - Контрольная 2\")\n",
    "\n",
    "# Подписи столбцов\n",
    "axes[0, 0].annotate(\"Все пользователи\", xy=(0.5, 1.2), xycoords='axes fraction', fontsize=14, ha='center', fontweight='bold')\n",
    "axes[0, 1].annotate(\"Премиум пользователи\", xy=(0.5, 1.2), xycoords='axes fraction', fontsize=14, ha='center', fontweight='bold')\n",
    "\n",
    "plt.tight_layout()\n",
    "plt.show()"
   ]
  },
  {
   "cell_type": "markdown",
   "metadata": {},
   "source": [
    "**Определяем распределение полов в группах с премиум подпиской.**\n",
    "\n",
    "Для определения стат.значимости используем критерий хи-квадрат:\n",
    "- Н0: нет статистически значимых различаий в группах (p-value > 0.05)\n",
    "- Н1: есть статистически значимые различаия в группах"
   ]
  },
  {
   "cell_type": "code",
   "execution_count": 147,
   "metadata": {},
   "outputs": [
    {
     "name": "stdout",
     "output_type": "stream",
     "text": [
      "Хи-квадрат: 2.4317\n",
      "p-значение: 0.2965\n",
      "Н0: Нет статистически значимых различий в распределении полов (p ≥ 0.05)\n"
     ]
    }
   ],
   "source": [
    "# Создаем таблицу сопряженности\n",
    "gender_premium_counts = pd.DataFrame({\n",
    "    \"Тестовая группа\": filtered_users_test[\"gender\"].value_counts(),\n",
    "    \"Контрольная группа 1\": filtered_users_control_1[\"gender\"].value_counts(),\n",
    "    \"Контрольная группа 2\": filtered_users_control_2[\"gender\"].value_counts()\n",
    "})\n",
    "\n",
    "# Применяем критерий хи-квадрат \n",
    "chi2, p, dof, expected = chi2_contingency(gender_premium_counts)\n",
    "\n",
    "# Выводим результаты\n",
    "print(f\"Хи-квадрат: {chi2:.4f}\")\n",
    "print(f\"p-значение: {p:.4f}\")\n",
    "\n",
    "# Результат\n",
    "alpha = 0.05  \n",
    "if p < alpha:\n",
    "    print(\"Н1: Статистически значимые различия в распределении полов между группами (p < 0.05)\")\n",
    "else:\n",
    "    print(\"Н0: Нет статистически значимых различий в распределении полов (p ≥ 0.05)\")"
   ]
  },
  {
   "cell_type": "markdown",
   "metadata": {},
   "source": [
    "- Определим распределение по странам для каждой группы"
   ]
  },
  {
   "cell_type": "code",
   "execution_count": 87,
   "metadata": {},
   "outputs": [
    {
     "data": {
      "image/png": "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\n",
      "text/plain": [
       "<Figure size 720x864 with 3 Axes>"
      ]
     },
     "metadata": {
      "needs_background": "light"
     },
     "output_type": "display_data"
    }
   ],
   "source": [
    "# Функция для построения графиков распределения по странам\n",
    "def plot_country_distribution(df, title, ax):\n",
    "    country_counts = df[\"country\"].value_counts(normalize=True) * 100 \n",
    "    sns.barplot(y=country_counts.index, x=country_counts.values, ax=ax, palette=\"viridis\")\n",
    "    ax.set_xlabel(\"Доля (%)\")\n",
    "    ax.set_title(title)\n",
    "\n",
    "# Создаем фигуру 3x1\n",
    "fig, axes = plt.subplots(3, 1, figsize=(10, 12))\n",
    "\n",
    "# Строим графики для каждой группы\n",
    "plot_country_distribution(users_test, \"Тестовая группа\", axes[0])\n",
    "plot_country_distribution(users_control_1, \"Контрольная группа 1\", axes[1])\n",
    "plot_country_distribution(users_control_2, \"Контрольная группа 2\", axes[2])\n",
    "\n",
    "# Улучшаем компоновку\n",
    "plt.tight_layout()\n",
    "plt.show()"
   ]
  },
  {
   "cell_type": "markdown",
   "metadata": {},
   "source": [
    "**Определяем распределение стран в каждой группе.**\n",
    "\n",
    "Для определения стат.значимости используем критерий хи-квадрат:\n",
    "- Н0: нет статистически значимых различаий в группах (p-value > 0.05)\n",
    "- Н1: есть статистически значимые различаия в группах"
   ]
  },
  {
   "cell_type": "code",
   "execution_count": 88,
   "metadata": {},
   "outputs": [
    {
     "name": "stdout",
     "output_type": "stream",
     "text": [
      "Хи-квадрат: 20.9337\n",
      "p-значение: 0.7454\n",
      "Н0: Нет статистически значимых различий в распределении стран (p ≥ 0.05)\n"
     ]
    }
   ],
   "source": [
    "# Создаем таблицу сопряженности \n",
    "country_counts = pd.DataFrame({\n",
    "    \"Тестовая группа\": users_test[\"country\"].value_counts(),\n",
    "    \"Контрольная группа 1\": users_control_1[\"country\"].value_counts(),\n",
    "    \"Контрольная группа 2\": users_control_2[\"country\"].value_counts()\n",
    "})\n",
    "\n",
    "# Применяем критерий хи-квадрат \n",
    "chi2, p, dof, expected = chi2_contingency(country_counts)\n",
    "\n",
    "# Выводим результаты\n",
    "print(f\"Хи-квадрат: {chi2:.4f}\")\n",
    "print(f\"p-значение: {p:.4f}\")\n",
    "\n",
    "# Результат\n",
    "alpha = 0.05 \n",
    "if p < alpha:\n",
    "    print(\"Н1: Статистически значимые различия в распределении стран между группами (p < 0.05)\")\n",
    "else:\n",
    "    print(\"Н0: Нет статистически значимых различий в распределении стран (p ≥ 0.05)\")"
   ]
  },
  {
   "cell_type": "markdown",
   "metadata": {},
   "source": [
    "- Определяем распределение по возрасту в каждой группе"
   ]
  },
  {
   "cell_type": "code",
   "execution_count": 32,
   "metadata": {},
   "outputs": [
    {
     "data": {
      "image/png": "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\n",
      "text/plain": [
       "<Figure size 720x864 with 3 Axes>"
      ]
     },
     "metadata": {
      "needs_background": "light"
     },
     "output_type": "display_data"
    }
   ],
   "source": [
    "# Функция для построения графиков распределения возраста\n",
    "def plot_age_distribution(df, title, ax):\n",
    "    sns.histplot(df[\"age\"], bins=20, kde=True, ax=ax, color=\"blue\")\n",
    "    ax.set_xlabel(\"Возраст\")\n",
    "    ax.set_ylabel(\"Частота\")\n",
    "    ax.set_title(title)\n",
    "    ax.set_xticks(range(0, 101, 5))  # Шаг 5 лет\n",
    "\n",
    "# Создаем фигуру 3x1\n",
    "fig, axes = plt.subplots(3, 1, figsize=(10, 12))\n",
    "\n",
    "# Строим графики для каждой группы\n",
    "plot_age_distribution(users_test, \"Тестовая группа\", axes[0])\n",
    "plot_age_distribution(users_control_1, \"Контрольная группа 1\", axes[1])\n",
    "plot_age_distribution(users_control_2, \"Контрольная группа 2\", axes[2])\n",
    "\n",
    "plt.tight_layout()\n",
    "plt.show()"
   ]
  },
  {
   "cell_type": "code",
   "execution_count": 89,
   "metadata": {},
   "outputs": [
    {
     "name": "stdout",
     "output_type": "stream",
     "text": [
      "Средний возраст:\n",
      "Тестовая группа: 31.91\n",
      "Контрольная группа 1: 32.11\n",
      "Контрольная группа 2: 32.11\n"
     ]
    }
   ],
   "source": [
    "# Вычисляем средний возраст по группам\n",
    "age_test = users_test[\"age\"].mean()\n",
    "age_control_1 = users_control_1[\"age\"].mean()\n",
    "age_control_2 = users_control_2[\"age\"].mean()\n",
    "\n",
    "# Выводим результаты\n",
    "print(f\"Средний возраст:\")\n",
    "print(f\"Тестовая группа: {age_test:.2f}\")\n",
    "print(f\"Контрольная группа 1: {age_control_1:.2f}\")\n",
    "print(f\"Контрольная группа 2: {age_control_2:.2f}\")"
   ]
  },
  {
   "cell_type": "code",
   "execution_count": 148,
   "metadata": {},
   "outputs": [],
   "source": [
    "# Создаем общий датафрейм с группами\n",
    "users_test[\"group\"] = \"test\"\n",
    "users_control_1[\"group\"] = \"control_1\"\n",
    "users_control_2[\"group\"] = \"control_2\"\n",
    "\n",
    "users_merged = pd.concat([users_test, users_control_1, users_control_2])"
   ]
  },
  {
   "cell_type": "code",
   "execution_count": 149,
   "metadata": {},
   "outputs": [
    {
     "name": "stdout",
     "output_type": "stream",
     "text": [
      "               W      pval  equal_var\n",
      "levene  0.393784  0.674508       True\n",
      "Дисперсии примерно равны (p ≥ 0.05) → данные ГОМОскедастичны!\n"
     ]
    }
   ],
   "source": [
    "# Тест на гомоскедастичность\n",
    "homoscedasticity_test = pg.homoscedasticity(data=users_merged, dv=\"age\", group=\"group\", method=\"levene\")\n",
    "\n",
    "print(homoscedasticity_test)\n",
    "\n",
    "# Интерпретация результата\n",
    "p_value = homoscedasticity_test['pval'].values[0]\n",
    "\n",
    "if p_value < 0.05:\n",
    "    print(\"Дисперсии значимо различаются (p < 0.05) → данные ГЕТЕРОскедастичны!\")\n",
    "else:\n",
    "    print(\"Дисперсии примерно равны (p ≥ 0.05) → данные ГОМОскедастичны!\")"
   ]
  },
  {
   "cell_type": "markdown",
   "metadata": {},
   "source": [
    "**Определяем распределение дней посещения в каждой группе.**\n",
    "\n",
    "Для определения стат.значимости используем тест Краскела-Уоллиса:\n",
    "- Н0: нет статистически значимых различаий в группах (p-value > 0.05)\n",
    "- Н1: есть статистически значимые различаия в группах"
   ]
  },
  {
   "cell_type": "code",
   "execution_count": 92,
   "metadata": {},
   "outputs": [
    {
     "name": "stdout",
     "output_type": "stream",
     "text": [
      "Статистика Краскела-Уоллиса: 1.1099\n",
      "p-значение: 0.5741\n",
      "Н0: Нет статистически значимых различий в распределении посещения дней между группами.\n"
     ]
    }
   ],
   "source": [
    "k_test = kruskal(\n",
    "    users_merged.query('group == \"test\"')['age'],\n",
    "    users_merged.query('group == \"control_1\"')['age'],\n",
    "    users_merged.query('group == \"control_2\"')['age']\n",
    ")\n",
    "\n",
    "print(f\"Статистика Краскела-Уоллиса: {k_test.statistic:.4f}\")\n",
    "print(f\"p-значение: {k_test.pvalue:.4f}\")\n",
    "\n",
    "# Проверим гипотезу\n",
    "alpha = 0.05\n",
    "if k_test.pvalue > alpha:\n",
    "    print(\"Н0: Нет статистически значимых различий в распределении посещения дней между группами.\")\n",
    "else:\n",
    "    print(\"Н1: Статистически значимые различия в распределении посещения дней между группами.\")"
   ]
  },
  {
   "cell_type": "markdown",
   "metadata": {},
   "source": [
    "- Определяем распределение коэффициента привлекательности в каждой группе"
   ]
  },
  {
   "cell_type": "code",
   "execution_count": 37,
   "metadata": {},
   "outputs": [
    {
     "data": {
      "image/png": "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\n",
      "text/plain": [
       "<Figure size 720x864 with 3 Axes>"
      ]
     },
     "metadata": {
      "needs_background": "light"
     },
     "output_type": "display_data"
    }
   ],
   "source": [
    "# Функция для построения графиков распределения attraction_coeff\n",
    "def plot_attraction_distribution(df, title, ax):\n",
    "    sns.histplot(df[\"attraction_coeff\"], bins=30, kde=True, ax=ax, color=\"purple\")\n",
    "    ax.set_xlabel(\"Коэффициент привлекательности\")\n",
    "    ax.set_ylabel(\"Частота\")\n",
    "    ax.set_title(title)\n",
    "\n",
    "fig, axes = plt.subplots(3, 1, figsize=(10, 12))\n",
    "\n",
    "# Строим графики для каждой группы\n",
    "plot_attraction_distribution(users_test, \"Тестовая группа\", axes[0])\n",
    "plot_attraction_distribution(users_control_1, \"Контрольная группа 1\", axes[1])\n",
    "plot_attraction_distribution(users_control_2, \"Контрольная группа 2\", axes[2])\n",
    "\n",
    "plt.tight_layout()\n",
    "plt.show()"
   ]
  },
  {
   "cell_type": "code",
   "execution_count": 93,
   "metadata": {},
   "outputs": [
    {
     "name": "stdout",
     "output_type": "stream",
     "text": [
      "Средний коэффициент привлекательности:\n",
      "Тестовая группа: 316.68\n",
      "Контрольная группа 1: 314.09\n",
      "Контрольная группа 2: 318.43\n"
     ]
    }
   ],
   "source": [
    "# Вычисляем средний коэффициент привлекательности по группам\n",
    "mean_attraction_test = users_test[\"attraction_coeff\"].mean()\n",
    "mean_attraction_control_1 = users_control_1[\"attraction_coeff\"].mean()\n",
    "mean_attraction_control_2 = users_control_2[\"attraction_coeff\"].mean()\n",
    "\n",
    "# Выводим результаты\n",
    "print(f\"Средний коэффициент привлекательности:\")\n",
    "print(f\"Тестовая группа: {mean_attraction_test:.2f}\")\n",
    "print(f\"Контрольная группа 1: {mean_attraction_control_1:.2f}\")\n",
    "print(f\"Контрольная группа 2: {mean_attraction_control_2:.2f}\")"
   ]
  },
  {
   "cell_type": "code",
   "execution_count": 94,
   "metadata": {},
   "outputs": [
    {
     "name": "stdout",
     "output_type": "stream",
     "text": [
      "               W      pval  equal_var\n",
      "levene  0.629268  0.532999       True\n",
      "Дисперсии примерно равны (p ≥ 0.05) → данные ГОМОскедастичны!\n"
     ]
    }
   ],
   "source": [
    "# Проверим группы на гомоскедастичность\n",
    "homoscedasticity_test = pg.homoscedasticity(data=users_merged, dv='attraction_coeff', group='group')\n",
    "print(homoscedasticity_test)\n",
    "\n",
    "# Интерпретация результата\n",
    "p_value = homoscedasticity_test['pval'].values[0]\n",
    "\n",
    "if p_value < 0.05:\n",
    "    print(\"Дисперсии значимо различаются (p < 0.05) → данные ГЕТЕРОскедастичны!\")\n",
    "else:\n",
    "    print(\"Дисперсии примерно равны (p ≥ 0.05) → данные ГОМОскедастичны!\")"
   ]
  },
  {
   "cell_type": "code",
   "execution_count": 95,
   "metadata": {},
   "outputs": [
    {
     "name": "stdout",
     "output_type": "stream",
     "text": [
      "Статистика Краскела-Уоллиса: 0.0806\n",
      "p-значение: 0.9605\n",
      "Н0: Нет статистически значимых различий в распределении привлекательности между группами.\n"
     ]
    }
   ],
   "source": [
    "# Проведем тест Краскела-Уоллиса для сравнения распределений коэффициента привлекательности\n",
    "k_test = kruskal(\n",
    "    users_merged.query('group == \"test\"')['attraction_coeff'],\n",
    "    users_merged.query('group == \"control_1\"')['attraction_coeff'],\n",
    "    users_merged.query('group == \"control_2\"')['attraction_coeff']\n",
    ")\n",
    "\n",
    "print(f\"Статистика Краскела-Уоллиса: {k_test.statistic:.4f}\")\n",
    "print(f\"p-значение: {k_test.pvalue:.4f}\")\n",
    "\n",
    "# Проверим гипотезу\n",
    "alpha = 0.05\n",
    "if k_test.pvalue > alpha:\n",
    "    print(\"Н0: Нет статистически значимых различий в распределении привлекательности между группами.\")\n",
    "else:\n",
    "    print(\"Н1: Статистически значимые различия в распределении привлекательности между группами.\")"
   ]
  },
  {
   "cell_type": "markdown",
   "metadata": {},
   "source": [
    "- Определяем динамику посещения приложения в разных группах"
   ]
  },
  {
   "cell_type": "code",
   "execution_count": 41,
   "metadata": {},
   "outputs": [
    {
     "data": {
      "image/png": "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\n",
      "text/plain": [
       "<Figure size 864x432 with 1 Axes>"
      ]
     },
     "metadata": {
      "needs_background": "light"
     },
     "output_type": "display_data"
    }
   ],
   "source": [
    "# Функция для обработки visit_days и агрегации по дням\n",
    "def process_visit_days(df):\n",
    "    visit_counts = {}  \n",
    "    \n",
    "    for days in df[\"visit_days\"]:\n",
    "        if isinstance(days, str):  # Проверяем, что данные в строковом формате\n",
    "            visit_list = list(map(int, days.split(\",\")))  # Разбиваем строку в список чисел\n",
    "            for day in visit_list:\n",
    "                if day in visit_counts:\n",
    "                    visit_counts[day] += 1\n",
    "                else:\n",
    "                    visit_counts[day] = 1\n",
    "\n",
    "    # Преобразуем в DataFrame\n",
    "    visit_df = pd.DataFrame(list(visit_counts.items()), columns=[\"day\", \"count\"])\n",
    "    visit_df = visit_df.sort_values(by=\"day\")  # Сортируем по дням\n",
    "    return visit_df\n",
    "\n",
    "# Обрабатываем данные по трем группам\n",
    "visit_test = process_visit_days(users_test)\n",
    "visit_control_1 = process_visit_days(users_control_1)\n",
    "visit_control_2 = process_visit_days(users_control_2)\n",
    "\n",
    "# Строим график\n",
    "plt.figure(figsize=(12, 6))\n",
    "sns.lineplot(x=\"day\", y=\"count\", data=visit_test, label=\"Тестовая группа\", marker=\"o\")\n",
    "sns.lineplot(x=\"day\", y=\"count\", data=visit_control_1, label=\"Контрольная группа 1\", marker=\"o\")\n",
    "sns.lineplot(x=\"day\", y=\"count\", data=visit_control_2, label=\"Контрольная группа 2\", marker=\"o\")\n",
    "\n",
    "plt.xlabel(\"День после регистрации\")\n",
    "plt.ylabel(\"Число посещений\")\n",
    "plt.title(\"Динамика посещаемости по дням\")\n",
    "plt.legend()\n",
    "plt.grid()\n",
    "plt.show()"
   ]
  },
  {
   "cell_type": "markdown",
   "metadata": {},
   "source": [
    "- Расчитаем среднее количество дней посещения приложения для всех пользователей"
   ]
  },
  {
   "cell_type": "code",
   "execution_count": 96,
   "metadata": {},
   "outputs": [
    {
     "name": "stdout",
     "output_type": "stream",
     "text": [
      "Среднее количество дней посещения (Тестовая группа): 4.86\n",
      "Среднее количество дней посещения (Контрольная группа 1): 4.91\n",
      "Среднее количество дней посещения (Контрольная группа 2): 4.70\n"
     ]
    }
   ],
   "source": [
    "def calculate_avg_visit_days(users_df, group_name):\n",
    "    # Создаем новый столбец, преобразуя строки в списки и считая их длину\n",
    "    users_df = users_df.copy()  \n",
    "    users_df.loc[:, \"visit_days_count\"] = users_df[\"visit_days\"].apply(\n",
    "        lambda x: len(str(x).split(',')) if pd.notna(x) else 0\n",
    "    )\n",
    "    \n",
    "    # Рассчитываем среднее количество посещений\n",
    "    avg_visit_days = users_df[\"visit_days_count\"].mean()\n",
    "    \n",
    "    print(f\"Среднее количество дней посещения ({group_name}): {avg_visit_days:.2f}\")\n",
    "    return avg_visit_days\n",
    "\n",
    "# Расчет для каждой группы пользователей\n",
    "avg_visit_days_test = calculate_avg_visit_days(users_test, \"Тестовая группа\")\n",
    "avg_visit_days_control_1 = calculate_avg_visit_days(users_control_1, \"Контрольная группа 1\")\n",
    "avg_visit_days_control_2 = calculate_avg_visit_days(users_control_2, \"Контрольная группа 2\")"
   ]
  },
  {
   "cell_type": "markdown",
   "metadata": {},
   "source": [
    "- Расчитаем среднее количество дней посещения приложения для премиум пользователей с исследуемыми платежными системами (filtered_users)"
   ]
  },
  {
   "cell_type": "code",
   "execution_count": 97,
   "metadata": {},
   "outputs": [
    {
     "name": "stdout",
     "output_type": "stream",
     "text": [
      "Среднее количество дней посещения (Тестовая группа): 9.76\n",
      "Среднее количество дней посещения (Контрольная группа 1): 9.62\n",
      "Среднее количество дней посещения (Контрольная группа 2): 9.03\n"
     ]
    }
   ],
   "source": [
    "def calculate_avg_visit_days(users_df, group_name):\n",
    "    # Создаем новый столбец, преобразуя строки в списки и считая их длину\n",
    "    users_df = users_df.copy()  \n",
    "    users_df.loc[:, \"visit_days_count\"] = users_df[\"visit_days\"].apply(\n",
    "        lambda x: len(str(x).split(',')) if pd.notna(x) else 0\n",
    "    )\n",
    "    \n",
    "    # Рассчитываем среднее количество посещений\n",
    "    avg_visit_days = users_df[\"visit_days_count\"].mean()\n",
    "    \n",
    "    print(f\"Среднее количество дней посещения ({group_name}): {avg_visit_days:.2f}\")\n",
    "    return avg_visit_days\n",
    "\n",
    "# Расчет для каждой группы пользователей\n",
    "avg_visit_days_test = calculate_avg_visit_days(filtered_users_test, \"Тестовая группа\")\n",
    "avg_visit_days_control_1 = calculate_avg_visit_days(filtered_users_control_1, \"Контрольная группа 1\")\n",
    "avg_visit_days_control_2 = calculate_avg_visit_days(filtered_users_control_2, \"Контрольная группа 2\")"
   ]
  },
  {
   "cell_type": "markdown",
   "metadata": {},
   "source": [
    "Видно что премиум премиум пользователи заходили в приложение чаще. "
   ]
  },
  {
   "cell_type": "markdown",
   "metadata": {},
   "source": [
    "- Определим распределение полученных оценок в каждой группе"
   ]
  },
  {
   "cell_type": "code",
   "execution_count": 43,
   "metadata": {},
   "outputs": [
    {
     "data": {
      "image/png": "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\n",
      "text/plain": [
       "<Figure size 1080x360 with 3 Axes>"
      ]
     },
     "metadata": {
      "needs_background": "light"
     },
     "output_type": "display_data"
    }
   ],
   "source": [
    "# Настройка графиков\n",
    "plt.figure(figsize=(15, 5))\n",
    "\n",
    "# Гистограмма для тестовой группы\n",
    "plt.subplot(1, 3, 1)\n",
    "sns.histplot(users_test[\"views_count\"], bins=50, kde=True, color=\"blue\")\n",
    "plt.title(\"Тестовая группа\")\n",
    "plt.xlabel(\"Число полученных оценок\")\n",
    "plt.ylabel(\"Количество пользователей\")\n",
    "\n",
    "# Гистограмма для контрольной группы 1\n",
    "plt.subplot(1, 3, 2)\n",
    "sns.histplot(users_control_1[\"views_count\"], bins=50, kde=True, color=\"green\")\n",
    "plt.title(\"Контрольная группа 1\")\n",
    "plt.xlabel(\"Число полученных оценок\")\n",
    "plt.ylabel(\"\")\n",
    "\n",
    "# Гистограмма для контрольной группы 2\n",
    "plt.subplot(1, 3, 3)\n",
    "sns.histplot(users_control_2[\"views_count\"], bins=50, kde=True, color=\"red\")\n",
    "plt.title(\"Контрольная группа 2\")\n",
    "plt.xlabel(\"Число полученных оценок\")\n",
    "plt.ylabel(\"\")\n",
    "\n",
    "# Отображение графиков\n",
    "plt.tight_layout()\n",
    "plt.show()"
   ]
  },
  {
   "cell_type": "code",
   "execution_count": 98,
   "metadata": {},
   "outputs": [
    {
     "name": "stdout",
     "output_type": "stream",
     "text": [
      "Среднее число полученных оценок:\n",
      "Тестовая группа: 45.54\n",
      "Контрольная группа 1: 44.09\n",
      "Контрольная группа 2: 42.89\n"
     ]
    }
   ],
   "source": [
    "# Вычисляем среднее число полученных оценок\n",
    "views_count_test = users_test[\"views_count\"].mean()\n",
    "views_count_control_1 = users_control_1[\"views_count\"].mean()\n",
    "views_count_control_2 = users_control_2[\"views_count\"].mean()\n",
    "\n",
    "# Выводим результаты\n",
    "print(f\"Среднее число полученных оценок:\")\n",
    "print(f\"Тестовая группа: {views_count_test:.2f}\")\n",
    "print(f\"Контрольная группа 1: {views_count_control_1:.2f}\")\n",
    "print(f\"Контрольная группа 2: {views_count_control_2:.2f}\")"
   ]
  },
  {
   "cell_type": "code",
   "execution_count": 99,
   "metadata": {},
   "outputs": [
    {
     "name": "stdout",
     "output_type": "stream",
     "text": [
      "               W      pval  equal_var\n",
      "levene  0.105797  0.899608       True\n",
      "Дисперсии примерно равны (p ≥ 0.05) → данные ГОМОскедастичны!\n"
     ]
    }
   ],
   "source": [
    "# Проверим группы на гомоскедастичность\n",
    "homoscedasticity_test = pg.homoscedasticity(data=users_merged, dv='views_count', group='group')\n",
    "print(homoscedasticity_test)\n",
    "\n",
    "# Интерпретация результата\n",
    "p_value = homoscedasticity_test['pval'].values[0]\n",
    "\n",
    "if p_value < 0.05:\n",
    "    print(\"Дисперсии значимо различаются (p < 0.05) → данные ГЕТЕРОскедастичны!\")\n",
    "else:\n",
    "    print(\"Дисперсии примерно равны (p ≥ 0.05) → данные ГОМОскедастичны!\")"
   ]
  },
  {
   "cell_type": "code",
   "execution_count": 100,
   "metadata": {},
   "outputs": [
    {
     "name": "stdout",
     "output_type": "stream",
     "text": [
      "Статистика Краскела-Уоллиса: 1.9969\n",
      "p-значение: 0.3684\n",
      "Н0: Нет статистически значимых различий в распределении привлекательности между группами.\n"
     ]
    }
   ],
   "source": [
    "# Проведем тест Краскела-Уоллиса для сравнения распределений коэффициента привлекательности\n",
    "k_test = kruskal(\n",
    "    users_merged.query('group == \"test\"')['views_count'],\n",
    "    users_merged.query('group == \"control_1\"')['views_count'],\n",
    "    users_merged.query('group == \"control_2\"')['views_count']\n",
    ")\n",
    "\n",
    "print(f\"Статистика Краскела-Уоллиса: {k_test.statistic:.4f}\")\n",
    "print(f\"p-значение: {k_test.pvalue:.4f}\")\n",
    "\n",
    "# Проверим гипотезу\n",
    "alpha = 0.05\n",
    "if k_test.pvalue > alpha:\n",
    "    print(\"Н0: Нет статистически значимых различий в распределении привлекательности между группами.\")\n",
    "else:\n",
    "    print(\"Н1: Статистически значимые различия в распределении привлекательности между группами.\")"
   ]
  },
  {
   "cell_type": "markdown",
   "metadata": {},
   "source": [
    "Нет статистически значимых различий в распределении числа полученных оценок (p ≥ 0.05)"
   ]
  },
  {
   "cell_type": "markdown",
   "metadata": {},
   "source": [
    "**Вывод**\n",
    "\n",
    "В результате сравнения контрольной и тестовых групп мы убедились что они репрезентативны"
   ]
  },
  {
   "cell_type": "markdown",
   "metadata": {},
   "source": [
    "## Выполним расчет метрик"
   ]
  },
  {
   "cell_type": "markdown",
   "metadata": {},
   "source": [
    "Для оценки успешности А/В теста необходимо сравнить тестовую группу с контрольными по ключевым метрикам"
   ]
  },
  {
   "cell_type": "markdown",
   "metadata": {},
   "source": [
    "- Узнаем долю пользователей продливших подписку"
   ]
  },
  {
   "cell_type": "code",
   "execution_count": 171,
   "metadata": {},
   "outputs": [
    {
     "data": {
      "text/html": [
       "<div>\n",
       "<style scoped>\n",
       "    .dataframe tbody tr th:only-of-type {\n",
       "        vertical-align: middle;\n",
       "    }\n",
       "\n",
       "    .dataframe tbody tr th {\n",
       "        vertical-align: top;\n",
       "    }\n",
       "\n",
       "    .dataframe thead th {\n",
       "        text-align: right;\n",
       "    }\n",
       "</style>\n",
       "<table border=\"1\" class=\"dataframe\">\n",
       "  <thead>\n",
       "    <tr style=\"text-align: right;\">\n",
       "      <th></th>\n",
       "      <th>Группа</th>\n",
       "      <th>Продлили подписку</th>\n",
       "      <th>Не продлили подписку</th>\n",
       "      <th>Общее число премиум пользователей</th>\n",
       "      <th>Доля продливших подписку (%)</th>\n",
       "    </tr>\n",
       "  </thead>\n",
       "  <tbody>\n",
       "    <tr>\n",
       "      <th>0</th>\n",
       "      <td>Тестовая группа</td>\n",
       "      <td>152</td>\n",
       "      <td>240</td>\n",
       "      <td>392</td>\n",
       "      <td>38.775510</td>\n",
       "    </tr>\n",
       "    <tr>\n",
       "      <th>1</th>\n",
       "      <td>Контрольная группа 1</td>\n",
       "      <td>183</td>\n",
       "      <td>236</td>\n",
       "      <td>419</td>\n",
       "      <td>43.675418</td>\n",
       "    </tr>\n",
       "    <tr>\n",
       "      <th>2</th>\n",
       "      <td>Контрольная группа 2</td>\n",
       "      <td>180</td>\n",
       "      <td>213</td>\n",
       "      <td>393</td>\n",
       "      <td>45.801527</td>\n",
       "    </tr>\n",
       "  </tbody>\n",
       "</table>\n",
       "</div>"
      ],
      "text/plain": [
       "                 Группа  Продлили подписку  Не продлили подписку  \\\n",
       "0       Тестовая группа                152                   240   \n",
       "1  Контрольная группа 1                183                   236   \n",
       "2  Контрольная группа 2                180                   213   \n",
       "\n",
       "   Общее число премиум пользователей  Доля продливших подписку (%)  \n",
       "0                                392                     38.775510  \n",
       "1                                419                     43.675418  \n",
       "2                                393                     45.801527  "
      ]
     },
     "execution_count": 171,
     "metadata": {},
     "output_type": "execute_result"
    }
   ],
   "source": [
    "# Функция для расчета продливших и не продливших подписку\n",
    "def subscription_status(users_df, group_name):\n",
    "# Создаем новый столбец, преобразуя строки в списки и считая их длину\n",
    "    users_df = users_df.copy() \n",
    "# Заменяем NaN в is_premium на 0\n",
    "    users_df[\"is_premium\"] = users_df[\"is_premium\"].fillna(0)\n",
    "    renewed = len(users_df[(users_df[\"was_premium\"] == 1.0) & (users_df[\"is_premium\"] == 1.0)])  # Продлили подписку\n",
    "    not_renewed = len(users_df[(users_df[\"was_premium\"] == 1.0) & (users_df[\"is_premium\"] == 0.0)])  # Не продлили подписку\n",
    "    \n",
    "    return {\n",
    "        \"Группа\": group_name,\n",
    "        \"Продлили подписку\": renewed,\n",
    "        \"Не продлили подписку\": not_renewed,\n",
    "        \"Общее число премиум пользователей\": renewed + not_renewed,\n",
    "        \"Доля продливших подписку (%)\": (renewed / (renewed + not_renewed) * 100) if (renewed + not_renewed) > 0 else 0\n",
    "    }\n",
    "\n",
    "# Анализируем подписку для каждой группы\n",
    "sub_status_test = subscription_status(users_test, \"Тестовая группа\")\n",
    "sub_status_control_1 = subscription_status(users_control_1, \"Контрольная группа 1\")\n",
    "sub_status_control_2 = subscription_status(users_control_2, \"Контрольная группа 2\")\n",
    "\n",
    "# Создаем сводную таблицу\n",
    "subscription_table = pd.DataFrame([sub_status_test, sub_status_control_1, sub_status_control_2])\n",
    "\n",
    "# Выводим результаты\n",
    "subscription_table\n"
   ]
  },
  {
   "cell_type": "code",
   "execution_count": 48,
   "metadata": {},
   "outputs": [
    {
     "data": {
      "image/png": "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\n",
      "text/plain": [
       "<Figure size 576x432 with 1 Axes>"
      ]
     },
     "metadata": {
      "needs_background": "light"
     },
     "output_type": "display_data"
    }
   ],
   "source": [
    "# Сравнение количества продливших и не продливших подписку для каждой группы\n",
    "fig, ax = plt.subplots(figsize=(8, 6))\n",
    "subscription_table.set_index('Группа')[['Продлили подписку', 'Не продлили подписку']].plot(kind='bar', ax=ax)\n",
    "ax.set_title('Продление подписки по группам')\n",
    "ax.set_ylabel('Количество пользователей')\n",
    "ax.set_xlabel('Группа')\n",
    "plt.xticks(rotation=45)\n",
    "plt.tight_layout()\n",
    "\n",
    "# Отображаем графики\n",
    "plt.show()"
   ]
  },
  {
   "cell_type": "markdown",
   "metadata": {},
   "source": [
    "**Определяем распределение по продлению подписок в каждой группе.**\n",
    "\n",
    "Для определения стат.значимости используем критерий хи-квадрат:\n",
    "- Н0: нет статистически значимых различаий в группах (p-value > 0.05)\n",
    "- Н1: есть статистически значимые различаия в группах"
   ]
  },
  {
   "cell_type": "code",
   "execution_count": 102,
   "metadata": {},
   "outputs": [
    {
     "name": "stdout",
     "output_type": "stream",
     "text": [
      "Хи-квадрат: 4.1711\n",
      "p-значение: 0.1242\n",
      "Н0: Нет статистически значимых различий в распределении продленим подписки (p ≥ 0.05)\n"
     ]
    }
   ],
   "source": [
    "# Таблица сопряженности\n",
    "contingency_table = np.array([\n",
    "    [sub_status_test[\"Продлили подписку\"], sub_status_test[\"Не продлили подписку\"]],\n",
    "    [sub_status_control_1[\"Продлили подписку\"], sub_status_control_1[\"Не продлили подписку\"]],\n",
    "    [sub_status_control_2[\"Продлили подписку\"], sub_status_control_2[\"Не продлили подписку\"]]\n",
    "])\n",
    "\n",
    "# Хи-квадрат \n",
    "chi2, p, dof, expected = stats.chi2_contingency(contingency_table)\n",
    "\n",
    "# Вывод результатов\n",
    "print(f\"Хи-квадрат: {chi2:.4f}\")\n",
    "print(f\"p-значение: {p:.4f}\")\n",
    "\n",
    "# Интерпретация результата\n",
    "alpha = 0.05\n",
    "if p < alpha:\n",
    "\n",
    "    print(\"Н1: Статистически значимые различия в распределении продленим подписки между группами (p < 0.05)\")\n",
    "else:\n",
    "    print(\"Н0: Нет статистически значимых различий в распределении продленим подписки (p ≥ 0.05)\")"
   ]
  },
  {
   "cell_type": "markdown",
   "metadata": {},
   "source": [
    "Расчитаем основные метрики - конверсию клиента в покупателя премиум подписки, средний доход на пользователя (ARPU) и на премиум пользователя (ARPPU)"
   ]
  },
  {
   "cell_type": "code",
   "execution_count": 172,
   "metadata": {},
   "outputs": [
    {
     "data": {
      "text/html": [
       "<div>\n",
       "<style scoped>\n",
       "    .dataframe tbody tr th:only-of-type {\n",
       "        vertical-align: middle;\n",
       "    }\n",
       "\n",
       "    .dataframe tbody tr th {\n",
       "        vertical-align: top;\n",
       "    }\n",
       "\n",
       "    .dataframe thead th {\n",
       "        text-align: right;\n",
       "    }\n",
       "</style>\n",
       "<table border=\"1\" class=\"dataframe\">\n",
       "  <thead>\n",
       "    <tr style=\"text-align: right;\">\n",
       "      <th></th>\n",
       "      <th>users</th>\n",
       "      <th>premium_users</th>\n",
       "      <th>revenue</th>\n",
       "      <th>CR</th>\n",
       "      <th>ARPU</th>\n",
       "      <th>ARPPU</th>\n",
       "    </tr>\n",
       "  </thead>\n",
       "  <tbody>\n",
       "    <tr>\n",
       "      <th>test</th>\n",
       "      <td>4080</td>\n",
       "      <td>55</td>\n",
       "      <td>1323933</td>\n",
       "      <td>0.013480</td>\n",
       "      <td>324.493382</td>\n",
       "      <td>24071.509091</td>\n",
       "    </tr>\n",
       "    <tr>\n",
       "      <th>control_1</th>\n",
       "      <td>4139</td>\n",
       "      <td>84</td>\n",
       "      <td>1302080</td>\n",
       "      <td>0.020295</td>\n",
       "      <td>314.588065</td>\n",
       "      <td>15500.952381</td>\n",
       "    </tr>\n",
       "    <tr>\n",
       "      <th>control_2</th>\n",
       "      <td>4049</td>\n",
       "      <td>85</td>\n",
       "      <td>1030432</td>\n",
       "      <td>0.020993</td>\n",
       "      <td>254.490491</td>\n",
       "      <td>12122.729412</td>\n",
       "    </tr>\n",
       "  </tbody>\n",
       "</table>\n",
       "</div>"
      ],
      "text/plain": [
       "           users  premium_users  revenue        CR        ARPU         ARPPU\n",
       "test        4080             55  1323933  0.013480  324.493382  24071.509091\n",
       "control_1   4139             84  1302080  0.020295  314.588065  15500.952381\n",
       "control_2   4049             85  1030432  0.020993  254.490491  12122.729412"
      ]
     },
     "execution_count": 172,
     "metadata": {},
     "output_type": "execute_result"
    }
   ],
   "source": [
    "def calculate_group_metrics(users_df, transactions_df, group_name):\n",
    "    all_users = users_df.uid.nunique()  # Общее количество пользователей\n",
    "    premium_users = transactions_df.query('revenue > 0 and product_type == \"premium_no_trial\"').uid.nunique()  # Премиум пользователи\n",
    "    revenue = transactions_df.revenue.sum()  # Общий доход\n",
    "    CR = premium_users / all_users if all_users > 0 else 0  # Коэффициент конверсии \n",
    "\n",
    "    # Средний доход на пользователя (ARPU)\n",
    "    ARPU = revenue / all_users if all_users > 0 else 0\n",
    "\n",
    "    # Средний доход на премиум пользователя (ARPPU)\n",
    "    ARPPU = revenue / premium_users if premium_users > 0 else 0\n",
    "\n",
    "    return pd.DataFrame({\n",
    "        'users': [all_users],\n",
    "        'premium_users': [premium_users],\n",
    "        'revenue': [revenue],\n",
    "        'CR': [CR],\n",
    "        'ARPU': [ARPU],         \n",
    "        'ARPPU': [ARPPU]    \n",
    "    }, index=[group_name])\n",
    "\n",
    "# Список для хранения метрик\n",
    "data = []\n",
    "\n",
    "# Рассчитываем метрики для каждой группы\n",
    "data.append(calculate_group_metrics(users_test, filtered_transactions_test, 'test'))\n",
    "data.append(calculate_group_metrics(users_control_1, filtered_transactions_control_1, 'control_1'))\n",
    "data.append(calculate_group_metrics(users_control_2, filtered_transactions_control_2, 'control_2'))\n",
    "\n",
    "# Объединяем метрики для всех групп в одну таблицу\n",
    "data_df = pd.concat(data)\n",
    "\n",
    "# Выводим таблицу с метриками для всех групп\n",
    "data_df"
   ]
  },
  {
   "cell_type": "markdown",
   "metadata": {},
   "source": [
    "Убедимся что контрольные группы имеют одинаковую дисперсию"
   ]
  },
  {
   "cell_type": "markdown",
   "metadata": {},
   "source": [
    "Проверим группы на гомоскедастичность"
   ]
  },
  {
   "cell_type": "code",
   "execution_count": 114,
   "metadata": {},
   "outputs": [
    {
     "name": "stdout",
     "output_type": "stream",
     "text": [
      "               W      pval  equal_var\n",
      "levene  0.983295  0.322056       True\n",
      "Дисперсии равны\n"
     ]
    }
   ],
   "source": [
    "# Фильтруем данные по контрольным группам с total_revenue > 0\n",
    "control_1 = users_merged[(users_merged[\"group\"] == \"control_1\") & (users_merged[\"total_revenue\"] > 0)][\"total_revenue\"]\n",
    "control_2 = users_merged[(users_merged[\"group\"] == \"control_2\") & (users_merged[\"total_revenue\"] > 0)][\"total_revenue\"]\n",
    "\n",
    "# Проверяем гомоскедастичность\n",
    "homoscedasticity_test = pg.homoscedasticity(data=pd.DataFrame({\"group\": [\"control_1\"] * len(control_1) + [\"control_2\"] * len(control_2),\n",
    "                                                               \"total_revenue\": list(control_1) + list(control_2)}),\n",
    "                                            dv=\"total_revenue\", \n",
    "                                            group=\"group\", \n",
    "                                            method=\"levene\")\n",
    "\n",
    "print(homoscedasticity_test)\n",
    "\n",
    "p_value = homoscedasticity_test[\"pval\"].values[0]\n",
    "\n",
    "if p_value < 0.05:\n",
    "    print(\"Дисперсии значимо различаются\")\n",
    "    equal_var = False\n",
    "else:\n",
    "    print(\"Дисперсии равны\")\n",
    "    equal_var = True"
   ]
  },
  {
   "cell_type": "markdown",
   "metadata": {},
   "source": [
    "Для определения стат.значимости используем t-тест:\n",
    "- Н0: нет статистически значимых различаий в  контрольных группах (p-value > 0.05)\n",
    "- Н1: есть статистически значимые различаия в контрольных группах"
   ]
  },
  {
   "cell_type": "code",
   "execution_count": 116,
   "metadata": {},
   "outputs": [
    {
     "name": "stdout",
     "output_type": "stream",
     "text": [
      "T-test: statistic=1.2295, p-value=0.2197\n",
      "Н0: Различий между контрольными группами НЕТ (p ≥ 0.05)\n"
     ]
    }
   ],
   "source": [
    "# Применяем t-тест\n",
    "t_stat, p_val = ttest_ind(control_1, control_2, equal_var=equal_var)\n",
    "\n",
    "print(f\"T-test: statistic={t_stat:.4f}, p-value={p_val:.4f}\")\n",
    "\n",
    "# Интерпретация результатов\n",
    "if p_val < 0.05:\n",
    "    print(\"Н1: Различия между контрольными группами статистически значимы (p < 0.05)\")\n",
    "else:\n",
    "    print(\"Н0: Различий между контрольными группами НЕТ (p ≥ 0.05)\")"
   ]
  },
  {
   "cell_type": "markdown",
   "metadata": {},
   "source": [
    "Для сравнения метрик не будем учитывать контрольную группу 1, т.к. с ней было проведено больше манипуляций по отфильтровыванию нужных данных."
   ]
  },
  {
   "cell_type": "markdown",
   "metadata": {},
   "source": [
    "- Сравним метрики тестовой и контрольной группы 2"
   ]
  },
  {
   "cell_type": "code",
   "execution_count": 173,
   "metadata": {},
   "outputs": [
    {
     "name": "stdout",
     "output_type": "stream",
     "text": [
      "\n",
      " Процентные изменения между тестовой и контрольными группами\n",
      "CR: Тестовая и Контрольная 2 = -35.79%\n",
      "ARPU: Тестовая и Контрольная 2 = 27.51%\n",
      "ARPPU: Тестовая и Контрольная 2 = 98.57%\n"
     ]
    }
   ],
   "source": [
    "def percentage_change(test_value, control_value):\n",
    "    return ((test_value - control_value) / control_value) * 100 if control_value != 0 else 0\n",
    "\n",
    "# Извлекаем метрики из таблицы data_df\n",
    "cr_test, cr_control_2 = data_df.loc[['test', 'control_2'], 'CR']\n",
    "arpu_test, arpu_control_2 = data_df.loc[['test', 'control_2'], 'ARPU']\n",
    "arppu_test, arppu_control_2 = data_df.loc[['test', 'control_2'], 'ARPPU']\n",
    "\n",
    "# Количество пользователей и премиум пользователей\n",
    "all_users_test, all_users_control_2 = data_df.loc[['test', 'control_2'], 'users']\n",
    "premium_test, premium_control_2 = data_df.loc[['test', 'control_2'], 'premium_users']\n",
    "\n",
    "# Расчет процентных изменений\n",
    "cr_change_2 = percentage_change(cr_test, cr_control_2)\n",
    "arpu_change_2 = percentage_change(arpu_test, arpu_control_2)\n",
    "arppu_change_2 = percentage_change(arppu_test, arppu_control_2)\n",
    "\n",
    "# Вывод результатов\n",
    "print(\"\\n Процентные изменения между тестовой и контрольными группами\")\n",
    "print(f\"CR: Тестовая и Контрольная 2 = {cr_change_2:.2f}%\")\n",
    "print(f\"ARPU: Тестовая и Контрольная 2 = {arpu_change_2:.2f}%\")\n",
    "print(f\"ARPPU: Тестовая и Контрольная 2 = {arppu_change_2:.2f}%\")"
   ]
  },
  {
   "cell_type": "markdown",
   "metadata": {},
   "source": [
    "- Конверсия в премиум-клиента (CR) по сравнению с тестовой группой уменьшилась на 35,8%\n",
    "- Средний доход на пользователя (ARPU) увеличился на 27,5%\n",
    "- Средний доход на премиум-пользователя (ARPPU) увеличился на 98,6%"
   ]
  },
  {
   "cell_type": "markdown",
   "metadata": {},
   "source": [
    "**Сравним конверсию `CR`**\n",
    "\n",
    "Для определения стат.значимости используем критерий хи-квадрат:\n",
    "- Н0: нет статистически значимых различаий в группах (p-value > 0.05)\n",
    "- Н1: есть статистически значимые различаия в группах"
   ]
  },
  {
   "cell_type": "code",
   "execution_count": 174,
   "metadata": {},
   "outputs": [
    {
     "name": "stdout",
     "output_type": "stream",
     "text": [
      "\n",
      "--- Хи-квадрат тест для сравнения CR ---\n",
      "Тестовая и Контрольная 2 → статистика = 6.3396, p-value = 0.0118\n",
      " Н1: Различия по CR между тестовой и контрольной 2 группой СТАТИСТИЧЕСКИ ЗНАЧИМЫ (p < 0.05)\n"
     ]
    }
   ],
   "source": [
    "# Исходные данные\n",
    "data_df[\"non_premium_users\"] = data_df[\"users\"] - data_df[\"premium_users\"]\n",
    "\n",
    "# Таблица сопряженности для сравнения тестовой группы с контрольной 2\n",
    "contingency_test_vs_control2 = [\n",
    "    [data_df.loc[\"test\", \"premium_users\"], data_df.loc[\"test\", \"non_premium_users\"]],\n",
    "    [data_df.loc[\"control_2\", \"premium_users\"], data_df.loc[\"control_2\", \"non_premium_users\"]]\n",
    "]\n",
    "\n",
    "# Хи-квадрат тест для сравнения CR\n",
    "chi2_2, p_2, dof_2, expected_2 = chi2_contingency(contingency_test_vs_control2)\n",
    "\n",
    "print(\"\\n--- Хи-квадрат тест для сравнения CR ---\")\n",
    "print(f\"Тестовая и Контрольная 2 → статистика = {chi2_2:.4f}, p-value = {p_2:.4f}\")\n",
    "\n",
    "# Интерпретация результатов\n",
    "alpha = 0.05\n",
    "def interpret_result(p_value, group):\n",
    "    if p_value < alpha:\n",
    "        print(f\" Н1: Различия по CR между тестовой и {group} группой СТАТИСТИЧЕСКИ ЗНАЧИМЫ (p < 0.05)\")\n",
    "    else:\n",
    "        print(f\" Н0: Различия по CR между тестовой и {group} группой НЕ значимы (p ≥ 0.05)\")\n",
    "\n",
    "interpret_result(p_2, \"контрольной 2\")"
   ]
  },
  {
   "cell_type": "markdown",
   "metadata": {},
   "source": [
    "Наблюдаем что в контрольной группе 2 есть статистически значимая разница в конверсии. Из этого следует что конверсия в премиум-клиента уменьшилась."
   ]
  },
  {
   "cell_type": "markdown",
   "metadata": {},
   "source": [
    "**Сравним средний доход `ARPU`**"
   ]
  },
  {
   "cell_type": "code",
   "execution_count": 183,
   "metadata": {},
   "outputs": [
    {
     "name": "stdout",
     "output_type": "stream",
     "text": [
      "               W      pval  equal_var\n",
      "levene  0.902573  0.405552       True\n",
      "Дисперсии примерно равны (p ≥ 0.05) → данные ГОМОскедастичны!\n"
     ]
    }
   ],
   "source": [
    "# Проверим группы на гомоскедастичность\n",
    "homoscedasticity_test = pg.homoscedasticity(data=users_merged, dv='total_revenue', group='group')\n",
    "print(homoscedasticity_test)\n",
    "\n",
    "# Интерпретация результата\n",
    "p_value = homoscedasticity_test['pval'].values[0]\n",
    "\n",
    "if p_value < 0.05:\n",
    "    print(\"Дисперсии значимо различаются (p < 0.05) → данные ГЕТЕРОскедастичны!\")\n",
    "else:\n",
    "    print(\"Дисперсии примерно равны (p ≥ 0.05) → данные ГОМОскедастичны!\")"
   ]
  },
  {
   "cell_type": "markdown",
   "metadata": {},
   "source": [
    "Для определения стат.значимости используем F-тест:\n",
    "- Н0: нет статистически значимых различаий в группах (p-value > 0.05)\n",
    "- Н1: есть статистически значимые различаия в группах"
   ]
  },
  {
   "cell_type": "code",
   "execution_count": 184,
   "metadata": {},
   "outputs": [
    {
     "name": "stdout",
     "output_type": "stream",
     "text": [
      "\n",
      "--- F-тест для сравнения ARPU ---\n",
      "F-статистика = 1.7213, p-value = 0.1896\n",
      "Н0: Различий в ARPU между группами НЕТ (p ≥ 0.05)\n"
     ]
    }
   ],
   "source": [
    "# Сравнение ARPU между test и control_2\n",
    "stat, p_value = stats.f_oneway(\n",
    "    users_test.total_revenue, \n",
    "    users_control_2.total_revenue\n",
    ")\n",
    "\n",
    "# Вывод результатов\n",
    "print(f\"\\n--- F-тест для сравнения ARPU ---\")\n",
    "print(f\"F-статистика = {stat:.4f}, p-value = {p_value:.4f}\")\n",
    "\n",
    "# Интерпретация результата\n",
    "alpha = 0.05\n",
    "if p_value < alpha:\n",
    "    print(\"Н1:Различия ARPU между группами СТАТИСТИЧЕСКИ ЗНАЧИМЫ (p < 0.05)\")\n",
    "else:\n",
    "    print(\"Н0: Различий в ARPU между группами НЕТ (p ≥ 0.05)\")"
   ]
  },
  {
   "cell_type": "markdown",
   "metadata": {},
   "source": [
    "**Сравним средний доход на премиум клиента`ARPU`**"
   ]
  },
  {
   "cell_type": "code",
   "execution_count": 185,
   "metadata": {},
   "outputs": [
    {
     "name": "stdout",
     "output_type": "stream",
     "text": [
      "              W      pval  equal_var\n",
      "levene  0.82388  0.439321       True\n",
      "Дисперсии примерно равны (p ≥ 0.05) → данные ГОМОскедастичны!\n"
     ]
    }
   ],
   "source": [
    "# Проверим группы на гомоскедастичность\n",
    "homoscedasticity_test = pg.homoscedasticity(data=users_merged.query('total_revenue > 0'), dv='total_revenue', group='group')\n",
    "print(homoscedasticity_test)\n",
    "\n",
    "# Интерпретация результата\n",
    "p_value = homoscedasticity_test['pval'].values[0]\n",
    "\n",
    "if p_value < 0.05:\n",
    "    print(\"Дисперсии значимо различаются (p < 0.05) → данные ГЕТЕРОскедастичны!\")\n",
    "else:\n",
    "    print(\"Дисперсии примерно равны (p ≥ 0.05) → данные ГОМОскедастичны!\")"
   ]
  },
  {
   "cell_type": "markdown",
   "metadata": {},
   "source": [
    "Для определения стат.значимости используем F-тест:\n",
    "- Н0: нет статистически значимых различаий в группах (p-value > 0.05)\n",
    "- Н1: есть статистически значимые различаия в группах"
   ]
  },
  {
   "cell_type": "code",
   "execution_count": 186,
   "metadata": {},
   "outputs": [
    {
     "name": "stdout",
     "output_type": "stream",
     "text": [
      "\n",
      "--- F-тест для сравнения ARPPU ---\n",
      "F-статистика = 12.4629, p-value = 0.0005\n",
      "Н1: Различия ARPPU между группами СТАТИСТИЧЕСКИ ЗНАЧИМЫ (p < 0.05)\n"
     ]
    }
   ],
   "source": [
    "# Сравнение ARPPU между test и control_2\n",
    "stat, p_value = stats.f_oneway(\n",
    "    users_test.query('total_revenue > 0').total_revenue, \n",
    "    users_control_2.query('total_revenue > 0').total_revenue\n",
    ")\n",
    "\n",
    "# Вывод результатов\n",
    "print(f\"\\n--- F-тест для сравнения ARPPU ---\")\n",
    "print(f\"F-статистика = {stat:.4f}, p-value = {p_value:.4f}\")\n",
    "\n",
    "# Интерпретация результата\n",
    "alpha = 0.05\n",
    "if p_value < alpha:\n",
    "    print(\"Н1: Различия ARPPU между группами СТАТИСТИЧЕСКИ ЗНАЧИМЫ (p < 0.05)\")\n",
    "else:\n",
    "    print(\"Н0: Различий в ARPPU между группами НЕТ (p ≥ 0.05)\")"
   ]
  },
  {
   "cell_type": "markdown",
   "metadata": {},
   "source": [
    "Наблюдаем что есть статистически значимая разница между группами. Из этого следует что `ARPPU` увеличился."
   ]
  },
  {
   "cell_type": "markdown",
   "metadata": {},
   "source": [
    "## Выводы"
   ]
  },
  {
   "cell_type": "markdown",
   "metadata": {},
   "source": [
    "Выполнили предварительный анализ данных и отобрали только тех клиентов где проводился тест с новой стоимостью премиум-подписки.\n",
    "Отфильтровали 2 платежные системы и выбрали общие страны во всех группах.\n",
    "\n",
    "**На отфильтрованных данных узнали средние показатели во всех группах и сравнили**\n",
    "1. Больше всего пользователей составляют мужчины\n",
    "2. Во всех трех группах подавляющее большинство пользователей из США\n",
    "3. Среднее количество посещения приложения в каждой группе около 4 дней, при этом премиум клиенты посещали приложение чаще, приблизительно 9 дней.\n",
    "4. Средний коэффициент привлекательности приблизительно равен 316. При максимальном значении 1000\n",
    "5. Средний возраст составляет 32г\n"
   ]
  },
  {
   "cell_type": "markdown",
   "metadata": {},
   "source": [
    "**После подсчета и сравнения метрик мы можем сделать вывод что**\n",
    "1. Конверсия в премиум-клиента (CR) по сравнению с тестовой группой уменьшилась на 35,8%. \n",
    "\n",
    "Есть статистически значимая разница в конверсии. Конверсия в премиум-клиента уменьшилась, что говорит о возможном снижении привлекательности подписки после изменения стоимости.\n",
    "\n",
    "2. Средний доход на пользователя (ARPU) увеличился на 27,5%\n",
    "\n",
    "Средний доход на пользователя увеличился, что свидетельствует о повышении монетизации клиентов.\n",
    "\n",
    "3. Средний доход на премиум-пользователя (ARPPU) увеличился на 98,6%\n",
    "\n",
    "Есть статистически значимая разница между группами. Платящие пользователи стали приносить больше дохода, что указывает на успешность ценового изменения среди тех, кто оформляет подписку."
   ]
  },
  {
   "cell_type": "markdown",
   "metadata": {},
   "source": [
    "Эксперимент оказался успешным, так как средний доход на премиум-пользователя (ARPPU) значительно увеличились.\n",
    "\n",
    "Однако, конверсия в премиум-клиента (CR) уменьшилась, что говорит о возможном снижении интереса к подписке при новой цене.\n",
    "\n",
    "Дальнейшие шаги могут включать дополнительное исследование причин снижения CR, тестирование других ценовых стратегий или внедрение промо-кампаний для повышения конверсии. "
   ]
  }
 ],
 "metadata": {
  "kernelspec": {
   "display_name": "Python 3",
   "language": "python",
   "name": "python3"
  },
  "language_info": {
   "codemirror_mode": {
    "name": "ipython",
    "version": 3
   },
   "file_extension": ".py",
   "mimetype": "text/x-python",
   "name": "python",
   "nbconvert_exporter": "python",
   "pygments_lexer": "ipython3",
   "version": "3.7.3"
  }
 },
 "nbformat": 4,
 "nbformat_minor": 4
}
